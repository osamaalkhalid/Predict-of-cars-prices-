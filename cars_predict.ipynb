{
  "cells": [
    {
      "cell_type": "code",
      "execution_count": 314,
      "metadata": {
        "id": "yw9wfdI78Zfc"
      },
      "outputs": [],
      "source": [
        "import pandas as pd\n",
        "import numpy as np\n",
        "import matplotlib.pyplot as plt\n",
        "import seaborn as sbn"
      ]
    },
    {
      "cell_type": "code",
      "execution_count": 315,
      "metadata": {
        "id": "CPrP36gc-WcD"
      },
      "outputs": [],
      "source": [
        "dataFrame = pd.read_excel(\"/content/sample_data/merc.xlsx\")"
      ]
    },
    {
      "cell_type": "code",
      "execution_count": 316,
      "metadata": {
        "colab": {
          "base_uri": "https://localhost:8080/",
          "height": 206
        },
        "id": "4PB0hniL-alW",
        "outputId": "4485dd39-645e-4749-b33d-8ba412a573cc"
      },
      "outputs": [
        {
          "output_type": "execute_result",
          "data": {
            "text/plain": [
              "   year  price transmission  mileage  tax   mpg  engineSize\n",
              "0  2005   5200    Automatic    63000  325  32.1         1.8\n",
              "1  2017  34948    Automatic    27000   20  61.4         2.1\n",
              "2  2016  49948    Automatic     6200  555  28.0         5.5\n",
              "3  2016  61948    Automatic    16000  325  30.4         4.0\n",
              "4  2016  73948    Automatic     4000  325  30.1         4.0"
            ],
            "text/html": [
              "\n",
              "  <div id=\"df-e6e4f21c-e437-46da-a959-1ed4192ceee8\">\n",
              "    <div class=\"colab-df-container\">\n",
              "      <div>\n",
              "<style scoped>\n",
              "    .dataframe tbody tr th:only-of-type {\n",
              "        vertical-align: middle;\n",
              "    }\n",
              "\n",
              "    .dataframe tbody tr th {\n",
              "        vertical-align: top;\n",
              "    }\n",
              "\n",
              "    .dataframe thead th {\n",
              "        text-align: right;\n",
              "    }\n",
              "</style>\n",
              "<table border=\"1\" class=\"dataframe\">\n",
              "  <thead>\n",
              "    <tr style=\"text-align: right;\">\n",
              "      <th></th>\n",
              "      <th>year</th>\n",
              "      <th>price</th>\n",
              "      <th>transmission</th>\n",
              "      <th>mileage</th>\n",
              "      <th>tax</th>\n",
              "      <th>mpg</th>\n",
              "      <th>engineSize</th>\n",
              "    </tr>\n",
              "  </thead>\n",
              "  <tbody>\n",
              "    <tr>\n",
              "      <th>0</th>\n",
              "      <td>2005</td>\n",
              "      <td>5200</td>\n",
              "      <td>Automatic</td>\n",
              "      <td>63000</td>\n",
              "      <td>325</td>\n",
              "      <td>32.1</td>\n",
              "      <td>1.8</td>\n",
              "    </tr>\n",
              "    <tr>\n",
              "      <th>1</th>\n",
              "      <td>2017</td>\n",
              "      <td>34948</td>\n",
              "      <td>Automatic</td>\n",
              "      <td>27000</td>\n",
              "      <td>20</td>\n",
              "      <td>61.4</td>\n",
              "      <td>2.1</td>\n",
              "    </tr>\n",
              "    <tr>\n",
              "      <th>2</th>\n",
              "      <td>2016</td>\n",
              "      <td>49948</td>\n",
              "      <td>Automatic</td>\n",
              "      <td>6200</td>\n",
              "      <td>555</td>\n",
              "      <td>28.0</td>\n",
              "      <td>5.5</td>\n",
              "    </tr>\n",
              "    <tr>\n",
              "      <th>3</th>\n",
              "      <td>2016</td>\n",
              "      <td>61948</td>\n",
              "      <td>Automatic</td>\n",
              "      <td>16000</td>\n",
              "      <td>325</td>\n",
              "      <td>30.4</td>\n",
              "      <td>4.0</td>\n",
              "    </tr>\n",
              "    <tr>\n",
              "      <th>4</th>\n",
              "      <td>2016</td>\n",
              "      <td>73948</td>\n",
              "      <td>Automatic</td>\n",
              "      <td>4000</td>\n",
              "      <td>325</td>\n",
              "      <td>30.1</td>\n",
              "      <td>4.0</td>\n",
              "    </tr>\n",
              "  </tbody>\n",
              "</table>\n",
              "</div>\n",
              "      <button class=\"colab-df-convert\" onclick=\"convertToInteractive('df-e6e4f21c-e437-46da-a959-1ed4192ceee8')\"\n",
              "              title=\"Convert this dataframe to an interactive table.\"\n",
              "              style=\"display:none;\">\n",
              "        \n",
              "  <svg xmlns=\"http://www.w3.org/2000/svg\" height=\"24px\"viewBox=\"0 0 24 24\"\n",
              "       width=\"24px\">\n",
              "    <path d=\"M0 0h24v24H0V0z\" fill=\"none\"/>\n",
              "    <path d=\"M18.56 5.44l.94 2.06.94-2.06 2.06-.94-2.06-.94-.94-2.06-.94 2.06-2.06.94zm-11 1L8.5 8.5l.94-2.06 2.06-.94-2.06-.94L8.5 2.5l-.94 2.06-2.06.94zm10 10l.94 2.06.94-2.06 2.06-.94-2.06-.94-.94-2.06-.94 2.06-2.06.94z\"/><path d=\"M17.41 7.96l-1.37-1.37c-.4-.4-.92-.59-1.43-.59-.52 0-1.04.2-1.43.59L10.3 9.45l-7.72 7.72c-.78.78-.78 2.05 0 2.83L4 21.41c.39.39.9.59 1.41.59.51 0 1.02-.2 1.41-.59l7.78-7.78 2.81-2.81c.8-.78.8-2.07 0-2.86zM5.41 20L4 18.59l7.72-7.72 1.47 1.35L5.41 20z\"/>\n",
              "  </svg>\n",
              "      </button>\n",
              "      \n",
              "  <style>\n",
              "    .colab-df-container {\n",
              "      display:flex;\n",
              "      flex-wrap:wrap;\n",
              "      gap: 12px;\n",
              "    }\n",
              "\n",
              "    .colab-df-convert {\n",
              "      background-color: #E8F0FE;\n",
              "      border: none;\n",
              "      border-radius: 50%;\n",
              "      cursor: pointer;\n",
              "      display: none;\n",
              "      fill: #1967D2;\n",
              "      height: 32px;\n",
              "      padding: 0 0 0 0;\n",
              "      width: 32px;\n",
              "    }\n",
              "\n",
              "    .colab-df-convert:hover {\n",
              "      background-color: #E2EBFA;\n",
              "      box-shadow: 0px 1px 2px rgba(60, 64, 67, 0.3), 0px 1px 3px 1px rgba(60, 64, 67, 0.15);\n",
              "      fill: #174EA6;\n",
              "    }\n",
              "\n",
              "    [theme=dark] .colab-df-convert {\n",
              "      background-color: #3B4455;\n",
              "      fill: #D2E3FC;\n",
              "    }\n",
              "\n",
              "    [theme=dark] .colab-df-convert:hover {\n",
              "      background-color: #434B5C;\n",
              "      box-shadow: 0px 1px 3px 1px rgba(0, 0, 0, 0.15);\n",
              "      filter: drop-shadow(0px 1px 2px rgba(0, 0, 0, 0.3));\n",
              "      fill: #FFFFFF;\n",
              "    }\n",
              "  </style>\n",
              "\n",
              "      <script>\n",
              "        const buttonEl =\n",
              "          document.querySelector('#df-e6e4f21c-e437-46da-a959-1ed4192ceee8 button.colab-df-convert');\n",
              "        buttonEl.style.display =\n",
              "          google.colab.kernel.accessAllowed ? 'block' : 'none';\n",
              "\n",
              "        async function convertToInteractive(key) {\n",
              "          const element = document.querySelector('#df-e6e4f21c-e437-46da-a959-1ed4192ceee8');\n",
              "          const dataTable =\n",
              "            await google.colab.kernel.invokeFunction('convertToInteractive',\n",
              "                                                     [key], {});\n",
              "          if (!dataTable) return;\n",
              "\n",
              "          const docLinkHtml = 'Like what you see? Visit the ' +\n",
              "            '<a target=\"_blank\" href=https://colab.research.google.com/notebooks/data_table.ipynb>data table notebook</a>'\n",
              "            + ' to learn more about interactive tables.';\n",
              "          element.innerHTML = '';\n",
              "          dataTable['output_type'] = 'display_data';\n",
              "          await google.colab.output.renderOutput(dataTable, element);\n",
              "          const docLink = document.createElement('div');\n",
              "          docLink.innerHTML = docLinkHtml;\n",
              "          element.appendChild(docLink);\n",
              "        }\n",
              "      </script>\n",
              "    </div>\n",
              "  </div>\n",
              "  "
            ]
          },
          "metadata": {},
          "execution_count": 316
        }
      ],
      "source": [
        "dataFrame.head()"
      ]
    },
    {
      "cell_type": "code",
      "execution_count": 317,
      "metadata": {
        "colab": {
          "base_uri": "https://localhost:8080/",
          "height": 364
        },
        "id": "3wN2nbM4AOij",
        "outputId": "76c302ca-8462-40dd-9264-6f06c6b3d8da"
      },
      "outputs": [
        {
          "output_type": "execute_result",
          "data": {
            "text/plain": [
              "               year          price        mileage           tax           mpg  \\\n",
              "count  13119.000000   13119.000000   13119.000000  13119.000000  13119.000000   \n",
              "mean    2017.296288   24698.596920   21949.559037    129.972178     55.155843   \n",
              "std        2.224709   11842.675542   21176.512267     65.260286     15.220082   \n",
              "min     1970.000000     650.000000       1.000000      0.000000      1.100000   \n",
              "25%     2016.000000   17450.000000    6097.500000    125.000000     45.600000   \n",
              "50%     2018.000000   22480.000000   15189.000000    145.000000     56.500000   \n",
              "75%     2019.000000   28980.000000   31779.500000    145.000000     64.200000   \n",
              "max     2020.000000  159999.000000  259000.000000    580.000000    217.300000   \n",
              "\n",
              "         engineSize  \n",
              "count  13119.000000  \n",
              "mean       2.071530  \n",
              "std        0.572426  \n",
              "min        0.000000  \n",
              "25%        1.800000  \n",
              "50%        2.000000  \n",
              "75%        2.100000  \n",
              "max        6.200000  "
            ],
            "text/html": [
              "\n",
              "  <div id=\"df-79819698-1f76-4be7-919e-2d0bde32c558\">\n",
              "    <div class=\"colab-df-container\">\n",
              "      <div>\n",
              "<style scoped>\n",
              "    .dataframe tbody tr th:only-of-type {\n",
              "        vertical-align: middle;\n",
              "    }\n",
              "\n",
              "    .dataframe tbody tr th {\n",
              "        vertical-align: top;\n",
              "    }\n",
              "\n",
              "    .dataframe thead th {\n",
              "        text-align: right;\n",
              "    }\n",
              "</style>\n",
              "<table border=\"1\" class=\"dataframe\">\n",
              "  <thead>\n",
              "    <tr style=\"text-align: right;\">\n",
              "      <th></th>\n",
              "      <th>year</th>\n",
              "      <th>price</th>\n",
              "      <th>mileage</th>\n",
              "      <th>tax</th>\n",
              "      <th>mpg</th>\n",
              "      <th>engineSize</th>\n",
              "    </tr>\n",
              "  </thead>\n",
              "  <tbody>\n",
              "    <tr>\n",
              "      <th>count</th>\n",
              "      <td>13119.000000</td>\n",
              "      <td>13119.000000</td>\n",
              "      <td>13119.000000</td>\n",
              "      <td>13119.000000</td>\n",
              "      <td>13119.000000</td>\n",
              "      <td>13119.000000</td>\n",
              "    </tr>\n",
              "    <tr>\n",
              "      <th>mean</th>\n",
              "      <td>2017.296288</td>\n",
              "      <td>24698.596920</td>\n",
              "      <td>21949.559037</td>\n",
              "      <td>129.972178</td>\n",
              "      <td>55.155843</td>\n",
              "      <td>2.071530</td>\n",
              "    </tr>\n",
              "    <tr>\n",
              "      <th>std</th>\n",
              "      <td>2.224709</td>\n",
              "      <td>11842.675542</td>\n",
              "      <td>21176.512267</td>\n",
              "      <td>65.260286</td>\n",
              "      <td>15.220082</td>\n",
              "      <td>0.572426</td>\n",
              "    </tr>\n",
              "    <tr>\n",
              "      <th>min</th>\n",
              "      <td>1970.000000</td>\n",
              "      <td>650.000000</td>\n",
              "      <td>1.000000</td>\n",
              "      <td>0.000000</td>\n",
              "      <td>1.100000</td>\n",
              "      <td>0.000000</td>\n",
              "    </tr>\n",
              "    <tr>\n",
              "      <th>25%</th>\n",
              "      <td>2016.000000</td>\n",
              "      <td>17450.000000</td>\n",
              "      <td>6097.500000</td>\n",
              "      <td>125.000000</td>\n",
              "      <td>45.600000</td>\n",
              "      <td>1.800000</td>\n",
              "    </tr>\n",
              "    <tr>\n",
              "      <th>50%</th>\n",
              "      <td>2018.000000</td>\n",
              "      <td>22480.000000</td>\n",
              "      <td>15189.000000</td>\n",
              "      <td>145.000000</td>\n",
              "      <td>56.500000</td>\n",
              "      <td>2.000000</td>\n",
              "    </tr>\n",
              "    <tr>\n",
              "      <th>75%</th>\n",
              "      <td>2019.000000</td>\n",
              "      <td>28980.000000</td>\n",
              "      <td>31779.500000</td>\n",
              "      <td>145.000000</td>\n",
              "      <td>64.200000</td>\n",
              "      <td>2.100000</td>\n",
              "    </tr>\n",
              "    <tr>\n",
              "      <th>max</th>\n",
              "      <td>2020.000000</td>\n",
              "      <td>159999.000000</td>\n",
              "      <td>259000.000000</td>\n",
              "      <td>580.000000</td>\n",
              "      <td>217.300000</td>\n",
              "      <td>6.200000</td>\n",
              "    </tr>\n",
              "  </tbody>\n",
              "</table>\n",
              "</div>\n",
              "      <button class=\"colab-df-convert\" onclick=\"convertToInteractive('df-79819698-1f76-4be7-919e-2d0bde32c558')\"\n",
              "              title=\"Convert this dataframe to an interactive table.\"\n",
              "              style=\"display:none;\">\n",
              "        \n",
              "  <svg xmlns=\"http://www.w3.org/2000/svg\" height=\"24px\"viewBox=\"0 0 24 24\"\n",
              "       width=\"24px\">\n",
              "    <path d=\"M0 0h24v24H0V0z\" fill=\"none\"/>\n",
              "    <path d=\"M18.56 5.44l.94 2.06.94-2.06 2.06-.94-2.06-.94-.94-2.06-.94 2.06-2.06.94zm-11 1L8.5 8.5l.94-2.06 2.06-.94-2.06-.94L8.5 2.5l-.94 2.06-2.06.94zm10 10l.94 2.06.94-2.06 2.06-.94-2.06-.94-.94-2.06-.94 2.06-2.06.94z\"/><path d=\"M17.41 7.96l-1.37-1.37c-.4-.4-.92-.59-1.43-.59-.52 0-1.04.2-1.43.59L10.3 9.45l-7.72 7.72c-.78.78-.78 2.05 0 2.83L4 21.41c.39.39.9.59 1.41.59.51 0 1.02-.2 1.41-.59l7.78-7.78 2.81-2.81c.8-.78.8-2.07 0-2.86zM5.41 20L4 18.59l7.72-7.72 1.47 1.35L5.41 20z\"/>\n",
              "  </svg>\n",
              "      </button>\n",
              "      \n",
              "  <style>\n",
              "    .colab-df-container {\n",
              "      display:flex;\n",
              "      flex-wrap:wrap;\n",
              "      gap: 12px;\n",
              "    }\n",
              "\n",
              "    .colab-df-convert {\n",
              "      background-color: #E8F0FE;\n",
              "      border: none;\n",
              "      border-radius: 50%;\n",
              "      cursor: pointer;\n",
              "      display: none;\n",
              "      fill: #1967D2;\n",
              "      height: 32px;\n",
              "      padding: 0 0 0 0;\n",
              "      width: 32px;\n",
              "    }\n",
              "\n",
              "    .colab-df-convert:hover {\n",
              "      background-color: #E2EBFA;\n",
              "      box-shadow: 0px 1px 2px rgba(60, 64, 67, 0.3), 0px 1px 3px 1px rgba(60, 64, 67, 0.15);\n",
              "      fill: #174EA6;\n",
              "    }\n",
              "\n",
              "    [theme=dark] .colab-df-convert {\n",
              "      background-color: #3B4455;\n",
              "      fill: #D2E3FC;\n",
              "    }\n",
              "\n",
              "    [theme=dark] .colab-df-convert:hover {\n",
              "      background-color: #434B5C;\n",
              "      box-shadow: 0px 1px 3px 1px rgba(0, 0, 0, 0.15);\n",
              "      filter: drop-shadow(0px 1px 2px rgba(0, 0, 0, 0.3));\n",
              "      fill: #FFFFFF;\n",
              "    }\n",
              "  </style>\n",
              "\n",
              "      <script>\n",
              "        const buttonEl =\n",
              "          document.querySelector('#df-79819698-1f76-4be7-919e-2d0bde32c558 button.colab-df-convert');\n",
              "        buttonEl.style.display =\n",
              "          google.colab.kernel.accessAllowed ? 'block' : 'none';\n",
              "\n",
              "        async function convertToInteractive(key) {\n",
              "          const element = document.querySelector('#df-79819698-1f76-4be7-919e-2d0bde32c558');\n",
              "          const dataTable =\n",
              "            await google.colab.kernel.invokeFunction('convertToInteractive',\n",
              "                                                     [key], {});\n",
              "          if (!dataTable) return;\n",
              "\n",
              "          const docLinkHtml = 'Like what you see? Visit the ' +\n",
              "            '<a target=\"_blank\" href=https://colab.research.google.com/notebooks/data_table.ipynb>data table notebook</a>'\n",
              "            + ' to learn more about interactive tables.';\n",
              "          element.innerHTML = '';\n",
              "          dataTable['output_type'] = 'display_data';\n",
              "          await google.colab.output.renderOutput(dataTable, element);\n",
              "          const docLink = document.createElement('div');\n",
              "          docLink.innerHTML = docLinkHtml;\n",
              "          element.appendChild(docLink);\n",
              "        }\n",
              "      </script>\n",
              "    </div>\n",
              "  </div>\n",
              "  "
            ]
          },
          "metadata": {},
          "execution_count": 317
        }
      ],
      "source": [
        "dataFrame.describe()"
      ]
    },
    {
      "cell_type": "markdown",
      "metadata": {
        "id": "BQkkRxHBB6o8"
      },
      "source": [
        "**To know if the data have null**"
      ]
    },
    {
      "cell_type": "code",
      "execution_count": 318,
      "metadata": {
        "colab": {
          "base_uri": "https://localhost:8080/"
        },
        "id": "LwtcNmcuAbfl",
        "outputId": "9fb6dbfc-c4ad-4243-b514-ba6cf088e937"
      },
      "outputs": [
        {
          "output_type": "execute_result",
          "data": {
            "text/plain": [
              "year            0\n",
              "price           0\n",
              "transmission    0\n",
              "mileage         0\n",
              "tax             0\n",
              "mpg             0\n",
              "engineSize      0\n",
              "dtype: int64"
            ]
          },
          "metadata": {},
          "execution_count": 318
        }
      ],
      "source": [
        "dataFrame.isnull().sum()"
      ]
    },
    {
      "cell_type": "code",
      "execution_count": 319,
      "metadata": {
        "colab": {
          "base_uri": "https://localhost:8080/",
          "height": 449
        },
        "id": "b_pp1La0B3dq",
        "outputId": "6e9d22e7-1efc-4e3a-f484-d1a6497a5565"
      },
      "outputs": [
        {
          "output_type": "stream",
          "name": "stderr",
          "text": [
            "/usr/local/lib/python3.9/dist-packages/seaborn/distributions.py:2619: FutureWarning: `distplot` is a deprecated function and will be removed in a future version. Please adapt your code to use either `displot` (a figure-level function with similar flexibility) or `histplot` (an axes-level function for histograms).\n",
            "  warnings.warn(msg, FutureWarning)\n"
          ]
        },
        {
          "output_type": "execute_result",
          "data": {
            "text/plain": [
              "<AxesSubplot:xlabel='price', ylabel='Density'>"
            ]
          },
          "metadata": {},
          "execution_count": 319
        },
        {
          "output_type": "display_data",
          "data": {
            "text/plain": [
              "<Figure size 1296x720 with 1 Axes>"
            ],
            "image/png": "[encoded data removed]"
          },
          "metadata": {
            "needs_background": "light"
          }
        }
      ],
      "source": [
        "plt.figure(figsize=(18,10))\n",
        "sbn.distplot(dataFrame[\"price\"])"
      ]
    },
    {
      "cell_type": "code",
      "execution_count": 281,
      "metadata": {
        "colab": {
          "base_uri": "https://localhost:8080/",
          "height": 435
        },
        "id": "ElgHeL2iCA8r",
        "outputId": "10624e1e-54f0-42e8-85b9-de6d1b01f79d"
      },
      "outputs": [
        {
          "output_type": "stream",
          "name": "stderr",
          "text": [
            "/usr/local/lib/python3.9/dist-packages/seaborn/_decorators.py:36: FutureWarning: Pass the following variable as a keyword arg: x. From version 0.12, the only valid positional argument will be `data`, and passing other arguments without an explicit keyword will result in an error or misinterpretation.\n",
            "  warnings.warn(\n"
          ]
        },
        {
          "output_type": "execute_result",
          "data": {
            "text/plain": [
              "<AxesSubplot:xlabel='price', ylabel='count'>"
            ]
          },
          "metadata": {},
          "execution_count": 281
        },
        {
          "output_type": "display_data",
          "data": {
            "text/plain": [
              "<Figure size 1296x720 with 1 Axes>"
            ],
            "image/png": "[encoded data removed]"
          },
          "metadata": {
            "needs_background": "light"
          }
        }
      ],
      "source": [
        "plt.figure(figsize=(18,10))\n",
        "sbn.countplot(dataFrame[\"year\"])\n"
      ]
    },
    {
      "cell_type": "code",
      "execution_count": 282,
      "metadata": {
        "colab": {
          "base_uri": "https://localhost:8080/",
          "height": 237
        },
        "id": "b0H72gOMCwaF",
        "outputId": "1599dc3c-cbd1-4512-f83c-d9fc38c37921"
      },
      "outputs": [
        {
          "output_type": "execute_result",
          "data": {
            "text/plain": [
              "                year     price   mileage       tax       mpg  engineSize\n",
              "year        1.000000  0.520712 -0.738027  0.012480 -0.094626   -0.142147\n",
              "price       0.520712  1.000000 -0.537214  0.268717 -0.438445    0.516126\n",
              "mileage    -0.738027 -0.537214  1.000000 -0.160223  0.202850    0.063652\n",
              "tax         0.012480  0.268717 -0.160223  1.000000 -0.513742    0.338341\n",
              "mpg        -0.094626 -0.438445  0.202850 -0.513742  1.000000   -0.339862\n",
              "engineSize -0.142147  0.516126  0.063652  0.338341 -0.339862    1.000000"
            ],
            "text/html": [
              "\n",
              "  <div id=\"df-847b5e10-7242-459f-bace-0138532b2e31\">\n",
              "    <div class=\"colab-df-container\">\n",
              "      <div>\n",
              "<style scoped>\n",
              "    .dataframe tbody tr th:only-of-type {\n",
              "        vertical-align: middle;\n",
              "    }\n",
              "\n",
              "    .dataframe tbody tr th {\n",
              "        vertical-align: top;\n",
              "    }\n",
              "\n",
              "    .dataframe thead th {\n",
              "        text-align: right;\n",
              "    }\n",
              "</style>\n",
              "<table border=\"1\" class=\"dataframe\">\n",
              "  <thead>\n",
              "    <tr style=\"text-align: right;\">\n",
              "      <th></th>\n",
              "      <th>year</th>\n",
              "      <th>price</th>\n",
              "      <th>mileage</th>\n",
              "      <th>tax</th>\n",
              "      <th>mpg</th>\n",
              "      <th>engineSize</th>\n",
              "    </tr>\n",
              "  </thead>\n",
              "  <tbody>\n",
              "    <tr>\n",
              "      <th>year</th>\n",
              "      <td>1.000000</td>\n",
              "      <td>0.520712</td>\n",
              "      <td>-0.738027</td>\n",
              "      <td>0.012480</td>\n",
              "      <td>-0.094626</td>\n",
              "      <td>-0.142147</td>\n",
              "    </tr>\n",
              "    <tr>\n",
              "      <th>price</th>\n",
              "      <td>0.520712</td>\n",
              "      <td>1.000000</td>\n",
              "      <td>-0.537214</td>\n",
              "      <td>0.268717</td>\n",
              "      <td>-0.438445</td>\n",
              "      <td>0.516126</td>\n",
              "    </tr>\n",
              "    <tr>\n",
              "      <th>mileage</th>\n",
              "      <td>-0.738027</td>\n",
              "      <td>-0.537214</td>\n",
              "      <td>1.000000</td>\n",
              "      <td>-0.160223</td>\n",
              "      <td>0.202850</td>\n",
              "      <td>0.063652</td>\n",
              "    </tr>\n",
              "    <tr>\n",
              "      <th>tax</th>\n",
              "      <td>0.012480</td>\n",
              "      <td>0.268717</td>\n",
              "      <td>-0.160223</td>\n",
              "      <td>1.000000</td>\n",
              "      <td>-0.513742</td>\n",
              "      <td>0.338341</td>\n",
              "    </tr>\n",
              "    <tr>\n",
              "      <th>mpg</th>\n",
              "      <td>-0.094626</td>\n",
              "      <td>-0.438445</td>\n",
              "      <td>0.202850</td>\n",
              "      <td>-0.513742</td>\n",
              "      <td>1.000000</td>\n",
              "      <td>-0.339862</td>\n",
              "    </tr>\n",
              "    <tr>\n",
              "      <th>engineSize</th>\n",
              "      <td>-0.142147</td>\n",
              "      <td>0.516126</td>\n",
              "      <td>0.063652</td>\n",
              "      <td>0.338341</td>\n",
              "      <td>-0.339862</td>\n",
              "      <td>1.000000</td>\n",
              "    </tr>\n",
              "  </tbody>\n",
              "</table>\n",
              "</div>\n",
              "      <button class=\"colab-df-convert\" onclick=\"convertToInteractive('df-847b5e10-7242-459f-bace-0138532b2e31')\"\n",
              "              title=\"Convert this dataframe to an interactive table.\"\n",
              "              style=\"display:none;\">\n",
              "        \n",
              "  <svg xmlns=\"http://www.w3.org/2000/svg\" height=\"24px\"viewBox=\"0 0 24 24\"\n",
              "       width=\"24px\">\n",
              "    <path d=\"M0 0h24v24H0V0z\" fill=\"none\"/>\n",
              "    <path d=\"M18.56 5.44l.94 2.06.94-2.06 2.06-.94-2.06-.94-.94-2.06-.94 2.06-2.06.94zm-11 1L8.5 8.5l.94-2.06 2.06-.94-2.06-.94L8.5 2.5l-.94 2.06-2.06.94zm10 10l.94 2.06.94-2.06 2.06-.94-2.06-.94-.94-2.06-.94 2.06-2.06.94z\"/><path d=\"M17.41 7.96l-1.37-1.37c-.4-.4-.92-.59-1.43-.59-.52 0-1.04.2-1.43.59L10.3 9.45l-7.72 7.72c-.78.78-.78 2.05 0 2.83L4 21.41c.39.39.9.59 1.41.59.51 0 1.02-.2 1.41-.59l7.78-7.78 2.81-2.81c.8-.78.8-2.07 0-2.86zM5.41 20L4 18.59l7.72-7.72 1.47 1.35L5.41 20z\"/>\n",
              "  </svg>\n",
              "      </button>\n",
              "      \n",
              "  <style>\n",
              "    .colab-df-container {\n",
              "      display:flex;\n",
              "      flex-wrap:wrap;\n",
              "      gap: 12px;\n",
              "    }\n",
              "\n",
              "    .colab-df-convert {\n",
              "      background-color: #E8F0FE;\n",
              "      border: none;\n",
              "      border-radius: 50%;\n",
              "      cursor: pointer;\n",
              "      display: none;\n",
              "      fill: #1967D2;\n",
              "      height: 32px;\n",
              "      padding: 0 0 0 0;\n",
              "      width: 32px;\n",
              "    }\n",
              "\n",
              "    .colab-df-convert:hover {\n",
              "      background-color: #E2EBFA;\n",
              "      box-shadow: 0px 1px 2px rgba(60, 64, 67, 0.3), 0px 1px 3px 1px rgba(60, 64, 67, 0.15);\n",
              "      fill: #174EA6;\n",
              "    }\n",
              "\n",
              "    [theme=dark] .colab-df-convert {\n",
              "      background-color: #3B4455;\n",
              "      fill: #D2E3FC;\n",
              "    }\n",
              "\n",
              "    [theme=dark] .colab-df-convert:hover {\n",
              "      background-color: #434B5C;\n",
              "      box-shadow: 0px 1px 3px 1px rgba(0, 0, 0, 0.15);\n",
              "      filter: drop-shadow(0px 1px 2px rgba(0, 0, 0, 0.3));\n",
              "      fill: #FFFFFF;\n",
              "    }\n",
              "  </style>\n",
              "\n",
              "      <script>\n",
              "        const buttonEl =\n",
              "          document.querySelector('#df-847b5e10-7242-459f-bace-0138532b2e31 button.colab-df-convert');\n",
              "        buttonEl.style.display =\n",
              "          google.colab.kernel.accessAllowed ? 'block' : 'none';\n",
              "\n",
              "        async function convertToInteractive(key) {\n",
              "          const element = document.querySelector('#df-847b5e10-7242-459f-bace-0138532b2e31');\n",
              "          const dataTable =\n",
              "            await google.colab.kernel.invokeFunction('convertToInteractive',\n",
              "                                                     [key], {});\n",
              "          if (!dataTable) return;\n",
              "\n",
              "          const docLinkHtml = 'Like what you see? Visit the ' +\n",
              "            '<a target=\"_blank\" href=https://colab.research.google.com/notebooks/data_table.ipynb>data table notebook</a>'\n",
              "            + ' to learn more about interactive tables.';\n",
              "          element.innerHTML = '';\n",
              "          dataTable['output_type'] = 'display_data';\n",
              "          await google.colab.output.renderOutput(dataTable, element);\n",
              "          const docLink = document.createElement('div');\n",
              "          docLink.innerHTML = docLinkHtml;\n",
              "          element.appendChild(docLink);\n",
              "        }\n",
              "      </script>\n",
              "    </div>\n",
              "  </div>\n",
              "  "
            ]
          },
          "metadata": {},
          "execution_count": 282
        }
      ],
      "source": [
        "dataFrame.corr()"
      ]
    },
    {
      "cell_type": "code",
      "execution_count": 283,
      "metadata": {
        "colab": {
          "base_uri": "https://localhost:8080/"
        },
        "id": "Ip5w_3SrHzvq",
        "outputId": "aaeff64d-6059-42db-82f4-193e67f56227"
      },
      "outputs": [
        {
          "output_type": "execute_result",
          "data": {
            "text/plain": [
              "mileage      -0.537214\n",
              "mpg          -0.438445\n",
              "tax           0.268717\n",
              "engineSize    0.516126\n",
              "year          0.520712\n",
              "price         1.000000\n",
              "Name: price, dtype: float64"
            ]
          },
          "metadata": {},
          "execution_count": 283
        }
      ],
      "source": [
        "dataFrame.corr()[\"price\"].sort_values()"
      ]
    },
    {
      "cell_type": "code",
      "execution_count": 284,
      "metadata": {
        "colab": {
          "base_uri": "https://localhost:8080/",
          "height": 296
        },
        "id": "HPFq7FmWH_aO",
        "outputId": "813ae125-eede-406e-eace-686102ad2885"
      },
      "outputs": [
        {
          "output_type": "execute_result",
          "data": {
            "text/plain": [
              "<AxesSubplot:xlabel='mileage', ylabel='price'>"
            ]
          },
          "metadata": {},
          "execution_count": 284
        },
        {
          "output_type": "display_data",
          "data": {
            "text/plain": [
              "<Figure size 432x288 with 1 Axes>"
            ],
            "image/png": "[encoded data removed]"
          },
          "metadata": {
            "needs_background": "light"
          }
        }
      ],
      "source": [
        "sbn.scatterplot(x=\"mileage\",y=\"price\",data=dataFrame)"
      ]
    },
    {
      "cell_type": "code",
      "execution_count": 285,
      "metadata": {
        "colab": {
          "base_uri": "https://localhost:8080/",
          "height": 206
        },
        "id": "OOBW8x4iJIlf",
        "outputId": "a757160d-881c-4b43-8b27-5df494361e63"
      },
      "outputs": [
        {
          "output_type": "execute_result",
          "data": {
            "text/plain": [
              "       year   price transmission  mileage  tax   mpg  engineSize\n",
              "6199   2020  159999    Semi-Auto     1350  145  21.4         4.0\n",
              "10044  2020  154998    Automatic     3000  150  21.4         4.0\n",
              "5      2011  149948    Automatic     3000  570  21.4         6.2\n",
              "8737   2019  140319    Semi-Auto      785  150  22.1         4.0\n",
              "6386   2018  139995    Semi-Auto    13046  145  21.4         4.0"
            ],
            "text/html": [
              "\n",
              "  <div id=\"df-4eaf2235-fa13-42fa-b0e8-ba57528a831e\">\n",
              "    <div class=\"colab-df-container\">\n",
              "      <div>\n",
              "<style scoped>\n",
              "    .dataframe tbody tr th:only-of-type {\n",
              "        vertical-align: middle;\n",
              "    }\n",
              "\n",
              "    .dataframe tbody tr th {\n",
              "        vertical-align: top;\n",
              "    }\n",
              "\n",
              "    .dataframe thead th {\n",
              "        text-align: right;\n",
              "    }\n",
              "</style>\n",
              "<table border=\"1\" class=\"dataframe\">\n",
              "  <thead>\n",
              "    <tr style=\"text-align: right;\">\n",
              "      <th></th>\n",
              "      <th>year</th>\n",
              "      <th>price</th>\n",
              "      <th>transmission</th>\n",
              "      <th>mileage</th>\n",
              "      <th>tax</th>\n",
              "      <th>mpg</th>\n",
              "      <th>engineSize</th>\n",
              "    </tr>\n",
              "  </thead>\n",
              "  <tbody>\n",
              "    <tr>\n",
              "      <th>6199</th>\n",
              "      <td>2020</td>\n",
              "      <td>159999</td>\n",
              "      <td>Semi-Auto</td>\n",
              "      <td>1350</td>\n",
              "      <td>145</td>\n",
              "      <td>21.4</td>\n",
              "      <td>4.0</td>\n",
              "    </tr>\n",
              "    <tr>\n",
              "      <th>10044</th>\n",
              "      <td>2020</td>\n",
              "      <td>154998</td>\n",
              "      <td>Automatic</td>\n",
              "      <td>3000</td>\n",
              "      <td>150</td>\n",
              "      <td>21.4</td>\n",
              "      <td>4.0</td>\n",
              "    </tr>\n",
              "    <tr>\n",
              "      <th>5</th>\n",
              "      <td>2011</td>\n",
              "      <td>149948</td>\n",
              "      <td>Automatic</td>\n",
              "      <td>3000</td>\n",
              "      <td>570</td>\n",
              "      <td>21.4</td>\n",
              "      <td>6.2</td>\n",
              "    </tr>\n",
              "    <tr>\n",
              "      <th>8737</th>\n",
              "      <td>2019</td>\n",
              "      <td>140319</td>\n",
              "      <td>Semi-Auto</td>\n",
              "      <td>785</td>\n",
              "      <td>150</td>\n",
              "      <td>22.1</td>\n",
              "      <td>4.0</td>\n",
              "    </tr>\n",
              "    <tr>\n",
              "      <th>6386</th>\n",
              "      <td>2018</td>\n",
              "      <td>139995</td>\n",
              "      <td>Semi-Auto</td>\n",
              "      <td>13046</td>\n",
              "      <td>145</td>\n",
              "      <td>21.4</td>\n",
              "      <td>4.0</td>\n",
              "    </tr>\n",
              "  </tbody>\n",
              "</table>\n",
              "</div>\n",
              "      <button class=\"colab-df-convert\" onclick=\"convertToInteractive('df-4eaf2235-fa13-42fa-b0e8-ba57528a831e')\"\n",
              "              title=\"Convert this dataframe to an interactive table.\"\n",
              "              style=\"display:none;\">\n",
              "        \n",
              "  <svg xmlns=\"http://www.w3.org/2000/svg\" height=\"24px\"viewBox=\"0 0 24 24\"\n",
              "       width=\"24px\">\n",
              "    <path d=\"M0 0h24v24H0V0z\" fill=\"none\"/>\n",
              "    <path d=\"M18.56 5.44l.94 2.06.94-2.06 2.06-.94-2.06-.94-.94-2.06-.94 2.06-2.06.94zm-11 1L8.5 8.5l.94-2.06 2.06-.94-2.06-.94L8.5 2.5l-.94 2.06-2.06.94zm10 10l.94 2.06.94-2.06 2.06-.94-2.06-.94-.94-2.06-.94 2.06-2.06.94z\"/><path d=\"M17.41 7.96l-1.37-1.37c-.4-.4-.92-.59-1.43-.59-.52 0-1.04.2-1.43.59L10.3 9.45l-7.72 7.72c-.78.78-.78 2.05 0 2.83L4 21.41c.39.39.9.59 1.41.59.51 0 1.02-.2 1.41-.59l7.78-7.78 2.81-2.81c.8-.78.8-2.07 0-2.86zM5.41 20L4 18.59l7.72-7.72 1.47 1.35L5.41 20z\"/>\n",
              "  </svg>\n",
              "      </button>\n",
              "      \n",
              "  <style>\n",
              "    .colab-df-container {\n",
              "      display:flex;\n",
              "      flex-wrap:wrap;\n",
              "      gap: 12px;\n",
              "    }\n",
              "\n",
              "    .colab-df-convert {\n",
              "      background-color: #E8F0FE;\n",
              "      border: none;\n",
              "      border-radius: 50%;\n",
              "      cursor: pointer;\n",
              "      display: none;\n",
              "      fill: #1967D2;\n",
              "      height: 32px;\n",
              "      padding: 0 0 0 0;\n",
              "      width: 32px;\n",
              "    }\n",
              "\n",
              "    .colab-df-convert:hover {\n",
              "      background-color: #E2EBFA;\n",
              "      box-shadow: 0px 1px 2px rgba(60, 64, 67, 0.3), 0px 1px 3px 1px rgba(60, 64, 67, 0.15);\n",
              "      fill: #174EA6;\n",
              "    }\n",
              "\n",
              "    [theme=dark] .colab-df-convert {\n",
              "      background-color: #3B4455;\n",
              "      fill: #D2E3FC;\n",
              "    }\n",
              "\n",
              "    [theme=dark] .colab-df-convert:hover {\n",
              "      background-color: #434B5C;\n",
              "      box-shadow: 0px 1px 3px 1px rgba(0, 0, 0, 0.15);\n",
              "      filter: drop-shadow(0px 1px 2px rgba(0, 0, 0, 0.3));\n",
              "      fill: #FFFFFF;\n",
              "    }\n",
              "  </style>\n",
              "\n",
              "      <script>\n",
              "        const buttonEl =\n",
              "          document.querySelector('#df-4eaf2235-fa13-42fa-b0e8-ba57528a831e button.colab-df-convert');\n",
              "        buttonEl.style.display =\n",
              "          google.colab.kernel.accessAllowed ? 'block' : 'none';\n",
              "\n",
              "        async function convertToInteractive(key) {\n",
              "          const element = document.querySelector('#df-4eaf2235-fa13-42fa-b0e8-ba57528a831e');\n",
              "          const dataTable =\n",
              "            await google.colab.kernel.invokeFunction('convertToInteractive',\n",
              "                                                     [key], {});\n",
              "          if (!dataTable) return;\n",
              "\n",
              "          const docLinkHtml = 'Like what you see? Visit the ' +\n",
              "            '<a target=\"_blank\" href=https://colab.research.google.com/notebooks/data_table.ipynb>data table notebook</a>'\n",
              "            + ' to learn more about interactive tables.';\n",
              "          element.innerHTML = '';\n",
              "          dataTable['output_type'] = 'display_data';\n",
              "          await google.colab.output.renderOutput(dataTable, element);\n",
              "          const docLink = document.createElement('div');\n",
              "          docLink.innerHTML = docLinkHtml;\n",
              "          element.appendChild(docLink);\n",
              "        }\n",
              "      </script>\n",
              "    </div>\n",
              "  </div>\n",
              "  "
            ]
          },
          "metadata": {},
          "execution_count": 285
        }
      ],
      "source": [
        "dataFrame.sort_values(\"price\",ascending = False).head()"
      ]
    },
    {
      "cell_type": "code",
      "execution_count": 286,
      "metadata": {
        "colab": {
          "base_uri": "https://localhost:8080/",
          "height": 206
        },
        "id": "HaMsQgXlJe_2",
        "outputId": "557549bf-fc6c-43ce-bd5d-6c80ea4fd8e8"
      },
      "outputs": [
        {
          "output_type": "execute_result",
          "data": {
            "text/plain": [
              "       year  price transmission  mileage  tax   mpg  engineSize\n",
              "11816  2003    650       Manual   109090  235  40.0         1.4\n",
              "12008  2010   1350       Manual   116126  145  54.3         2.0\n",
              "11765  2000   1490    Automatic    87000  265  27.2         3.2\n",
              "11549  2002   1495    Automatic    13800  305  39.8         2.7\n",
              "12594  2004   1495       Manual   119000  300  34.5         1.8"
            ],
            "text/html": [
              "\n",
              "  <div id=\"df-0143e61d-3ea7-429a-b5b6-7dc67da64d9c\">\n",
              "    <div class=\"colab-df-container\">\n",
              "      <div>\n",
              "<style scoped>\n",
              "    .dataframe tbody tr th:only-of-type {\n",
              "        vertical-align: middle;\n",
              "    }\n",
              "\n",
              "    .dataframe tbody tr th {\n",
              "        vertical-align: top;\n",
              "    }\n",
              "\n",
              "    .dataframe thead th {\n",
              "        text-align: right;\n",
              "    }\n",
              "</style>\n",
              "<table border=\"1\" class=\"dataframe\">\n",
              "  <thead>\n",
              "    <tr style=\"text-align: right;\">\n",
              "      <th></th>\n",
              "      <th>year</th>\n",
              "      <th>price</th>\n",
              "      <th>transmission</th>\n",
              "      <th>mileage</th>\n",
              "      <th>tax</th>\n",
              "      <th>mpg</th>\n",
              "      <th>engineSize</th>\n",
              "    </tr>\n",
              "  </thead>\n",
              "  <tbody>\n",
              "    <tr>\n",
              "      <th>11816</th>\n",
              "      <td>2003</td>\n",
              "      <td>650</td>\n",
              "      <td>Manual</td>\n",
              "      <td>109090</td>\n",
              "      <td>235</td>\n",
              "      <td>40.0</td>\n",
              "      <td>1.4</td>\n",
              "    </tr>\n",
              "    <tr>\n",
              "      <th>12008</th>\n",
              "      <td>2010</td>\n",
              "      <td>1350</td>\n",
              "      <td>Manual</td>\n",
              "      <td>116126</td>\n",
              "      <td>145</td>\n",
              "      <td>54.3</td>\n",
              "      <td>2.0</td>\n",
              "    </tr>\n",
              "    <tr>\n",
              "      <th>11765</th>\n",
              "      <td>2000</td>\n",
              "      <td>1490</td>\n",
              "      <td>Automatic</td>\n",
              "      <td>87000</td>\n",
              "      <td>265</td>\n",
              "      <td>27.2</td>\n",
              "      <td>3.2</td>\n",
              "    </tr>\n",
              "    <tr>\n",
              "      <th>11549</th>\n",
              "      <td>2002</td>\n",
              "      <td>1495</td>\n",
              "      <td>Automatic</td>\n",
              "      <td>13800</td>\n",
              "      <td>305</td>\n",
              "      <td>39.8</td>\n",
              "      <td>2.7</td>\n",
              "    </tr>\n",
              "    <tr>\n",
              "      <th>12594</th>\n",
              "      <td>2004</td>\n",
              "      <td>1495</td>\n",
              "      <td>Manual</td>\n",
              "      <td>119000</td>\n",
              "      <td>300</td>\n",
              "      <td>34.5</td>\n",
              "      <td>1.8</td>\n",
              "    </tr>\n",
              "  </tbody>\n",
              "</table>\n",
              "</div>\n",
              "      <button class=\"colab-df-convert\" onclick=\"convertToInteractive('df-0143e61d-3ea7-429a-b5b6-7dc67da64d9c')\"\n",
              "              title=\"Convert this dataframe to an interactive table.\"\n",
              "              style=\"display:none;\">\n",
              "        \n",
              "  <svg xmlns=\"http://www.w3.org/2000/svg\" height=\"24px\"viewBox=\"0 0 24 24\"\n",
              "       width=\"24px\">\n",
              "    <path d=\"M0 0h24v24H0V0z\" fill=\"none\"/>\n",
              "    <path d=\"M18.56 5.44l.94 2.06.94-2.06 2.06-.94-2.06-.94-.94-2.06-.94 2.06-2.06.94zm-11 1L8.5 8.5l.94-2.06 2.06-.94-2.06-.94L8.5 2.5l-.94 2.06-2.06.94zm10 10l.94 2.06.94-2.06 2.06-.94-2.06-.94-.94-2.06-.94 2.06-2.06.94z\"/><path d=\"M17.41 7.96l-1.37-1.37c-.4-.4-.92-.59-1.43-.59-.52 0-1.04.2-1.43.59L10.3 9.45l-7.72 7.72c-.78.78-.78 2.05 0 2.83L4 21.41c.39.39.9.59 1.41.59.51 0 1.02-.2 1.41-.59l7.78-7.78 2.81-2.81c.8-.78.8-2.07 0-2.86zM5.41 20L4 18.59l7.72-7.72 1.47 1.35L5.41 20z\"/>\n",
              "  </svg>\n",
              "      </button>\n",
              "      \n",
              "  <style>\n",
              "    .colab-df-container {\n",
              "      display:flex;\n",
              "      flex-wrap:wrap;\n",
              "      gap: 12px;\n",
              "    }\n",
              "\n",
              "    .colab-df-convert {\n",
              "      background-color: #E8F0FE;\n",
              "      border: none;\n",
              "      border-radius: 50%;\n",
              "      cursor: pointer;\n",
              "      display: none;\n",
              "      fill: #1967D2;\n",
              "      height: 32px;\n",
              "      padding: 0 0 0 0;\n",
              "      width: 32px;\n",
              "    }\n",
              "\n",
              "    .colab-df-convert:hover {\n",
              "      background-color: #E2EBFA;\n",
              "      box-shadow: 0px 1px 2px rgba(60, 64, 67, 0.3), 0px 1px 3px 1px rgba(60, 64, 67, 0.15);\n",
              "      fill: #174EA6;\n",
              "    }\n",
              "\n",
              "    [theme=dark] .colab-df-convert {\n",
              "      background-color: #3B4455;\n",
              "      fill: #D2E3FC;\n",
              "    }\n",
              "\n",
              "    [theme=dark] .colab-df-convert:hover {\n",
              "      background-color: #434B5C;\n",
              "      box-shadow: 0px 1px 3px 1px rgba(0, 0, 0, 0.15);\n",
              "      filter: drop-shadow(0px 1px 2px rgba(0, 0, 0, 0.3));\n",
              "      fill: #FFFFFF;\n",
              "    }\n",
              "  </style>\n",
              "\n",
              "      <script>\n",
              "        const buttonEl =\n",
              "          document.querySelector('#df-0143e61d-3ea7-429a-b5b6-7dc67da64d9c button.colab-df-convert');\n",
              "        buttonEl.style.display =\n",
              "          google.colab.kernel.accessAllowed ? 'block' : 'none';\n",
              "\n",
              "        async function convertToInteractive(key) {\n",
              "          const element = document.querySelector('#df-0143e61d-3ea7-429a-b5b6-7dc67da64d9c');\n",
              "          const dataTable =\n",
              "            await google.colab.kernel.invokeFunction('convertToInteractive',\n",
              "                                                     [key], {});\n",
              "          if (!dataTable) return;\n",
              "\n",
              "          const docLinkHtml = 'Like what you see? Visit the ' +\n",
              "            '<a target=\"_blank\" href=https://colab.research.google.com/notebooks/data_table.ipynb>data table notebook</a>'\n",
              "            + ' to learn more about interactive tables.';\n",
              "          element.innerHTML = '';\n",
              "          dataTable['output_type'] = 'display_data';\n",
              "          await google.colab.output.renderOutput(dataTable, element);\n",
              "          const docLink = document.createElement('div');\n",
              "          docLink.innerHTML = docLinkHtml;\n",
              "          element.appendChild(docLink);\n",
              "        }\n",
              "      </script>\n",
              "    </div>\n",
              "  </div>\n",
              "  "
            ]
          },
          "metadata": {},
          "execution_count": 286
        }
      ],
      "source": [
        "dataFrame.sort_values(\"price\",ascending = True).head()"
      ]
    },
    {
      "cell_type": "code",
      "execution_count": 287,
      "metadata": {
        "colab": {
          "base_uri": "https://localhost:8080/"
        },
        "id": "PY-i5qEaJ114",
        "outputId": "92f13302-fc2c-4ef8-8089-dde66d591e83"
      },
      "outputs": [
        {
          "output_type": "execute_result",
          "data": {
            "text/plain": [
              "13119"
            ]
          },
          "metadata": {},
          "execution_count": 287
        }
      ],
      "source": [
        "len(dataFrame)"
      ]
    },
    {
      "cell_type": "code",
      "execution_count": 288,
      "metadata": {
        "colab": {
          "base_uri": "https://localhost:8080/"
        },
        "id": "4XccYXTJKHaY",
        "outputId": "04392418-a16e-4fb7-c835-00e5ce95d66d"
      },
      "outputs": [
        {
          "output_type": "execute_result",
          "data": {
            "text/plain": [
              "131.19"
            ]
          },
          "metadata": {},
          "execution_count": 288
        }
      ],
      "source": [
        "len(dataFrame) * 0.01"
      ]
    },
    {
      "cell_type": "code",
      "execution_count": 289,
      "metadata": {
        "id": "lRh6OZlxKRXH"
      },
      "outputs": [],
      "source": [
        "ne99 =dataFrame.sort_values(\"price\",ascending= False).iloc[131:]"
      ]
    },
    {
      "cell_type": "code",
      "execution_count": 290,
      "metadata": {
        "colab": {
          "base_uri": "https://localhost:8080/",
          "height": 364
        },
        "id": "gLUyusrDKqrx",
        "outputId": "7cf333af-50a8-42fc-f082-a745dadbee92"
      },
      "outputs": [
        {
          "output_type": "execute_result",
          "data": {
            "text/plain": [
              "               year         price        mileage           tax           mpg  \\\n",
              "count  12988.000000  12988.000000   12988.000000  12988.000000  12988.000000   \n",
              "mean    2017.281876  24074.926933   22132.741146    129.689714     55.437142   \n",
              "std        2.228515   9866.224575   21196.776401     65.183076     15.025999   \n",
              "min     1970.000000    650.000000       1.000000      0.000000      1.100000   \n",
              "25%     2016.000000  17357.500000    6322.000000    125.000000     45.600000   \n",
              "50%     2018.000000  22299.000000   15369.500000    145.000000     56.500000   \n",
              "75%     2019.000000  28706.000000   31982.250000    145.000000     64.200000   \n",
              "max     2020.000000  65990.000000  259000.000000    580.000000    217.300000   \n",
              "\n",
              "         engineSize  \n",
              "count  12988.000000  \n",
              "mean       2.050901  \n",
              "std        0.532596  \n",
              "min        0.000000  \n",
              "25%        1.675000  \n",
              "50%        2.000000  \n",
              "75%        2.100000  \n",
              "max        6.200000  "
            ],
            "text/html": [
              "\n",
              "  <div id=\"df-bce70e55-87de-4bef-8abf-bb6294775e6d\">\n",
              "    <div class=\"colab-df-container\">\n",
              "      <div>\n",
              "<style scoped>\n",
              "    .dataframe tbody tr th:only-of-type {\n",
              "        vertical-align: middle;\n",
              "    }\n",
              "\n",
              "    .dataframe tbody tr th {\n",
              "        vertical-align: top;\n",
              "    }\n",
              "\n",
              "    .dataframe thead th {\n",
              "        text-align: right;\n",
              "    }\n",
              "</style>\n",
              "<table border=\"1\" class=\"dataframe\">\n",
              "  <thead>\n",
              "    <tr style=\"text-align: right;\">\n",
              "      <th></th>\n",
              "      <th>year</th>\n",
              "      <th>price</th>\n",
              "      <th>mileage</th>\n",
              "      <th>tax</th>\n",
              "      <th>mpg</th>\n",
              "      <th>engineSize</th>\n",
              "    </tr>\n",
              "  </thead>\n",
              "  <tbody>\n",
              "    <tr>\n",
              "      <th>count</th>\n",
              "      <td>12988.000000</td>\n",
              "      <td>12988.000000</td>\n",
              "      <td>12988.000000</td>\n",
              "      <td>12988.000000</td>\n",
              "      <td>12988.000000</td>\n",
              "      <td>12988.000000</td>\n",
              "    </tr>\n",
              "    <tr>\n",
              "      <th>mean</th>\n",
              "      <td>2017.281876</td>\n",
              "      <td>24074.926933</td>\n",
              "      <td>22132.741146</td>\n",
              "      <td>129.689714</td>\n",
              "      <td>55.437142</td>\n",
              "      <td>2.050901</td>\n",
              "    </tr>\n",
              "    <tr>\n",
              "      <th>std</th>\n",
              "      <td>2.228515</td>\n",
              "      <td>9866.224575</td>\n",
              "      <td>21196.776401</td>\n",
              "      <td>65.183076</td>\n",
              "      <td>15.025999</td>\n",
              "      <td>0.532596</td>\n",
              "    </tr>\n",
              "    <tr>\n",
              "      <th>min</th>\n",
              "      <td>1970.000000</td>\n",
              "      <td>650.000000</td>\n",
              "      <td>1.000000</td>\n",
              "      <td>0.000000</td>\n",
              "      <td>1.100000</td>\n",
              "      <td>0.000000</td>\n",
              "    </tr>\n",
              "    <tr>\n",
              "      <th>25%</th>\n",
              "      <td>2016.000000</td>\n",
              "      <td>17357.500000</td>\n",
              "      <td>6322.000000</td>\n",
              "      <td>125.000000</td>\n",
              "      <td>45.600000</td>\n",
              "      <td>1.675000</td>\n",
              "    </tr>\n",
              "    <tr>\n",
              "      <th>50%</th>\n",
              "      <td>2018.000000</td>\n",
              "      <td>22299.000000</td>\n",
              "      <td>15369.500000</td>\n",
              "      <td>145.000000</td>\n",
              "      <td>56.500000</td>\n",
              "      <td>2.000000</td>\n",
              "    </tr>\n",
              "    <tr>\n",
              "      <th>75%</th>\n",
              "      <td>2019.000000</td>\n",
              "      <td>28706.000000</td>\n",
              "      <td>31982.250000</td>\n",
              "      <td>145.000000</td>\n",
              "      <td>64.200000</td>\n",
              "      <td>2.100000</td>\n",
              "    </tr>\n",
              "    <tr>\n",
              "      <th>max</th>\n",
              "      <td>2020.000000</td>\n",
              "      <td>65990.000000</td>\n",
              "      <td>259000.000000</td>\n",
              "      <td>580.000000</td>\n",
              "      <td>217.300000</td>\n",
              "      <td>6.200000</td>\n",
              "    </tr>\n",
              "  </tbody>\n",
              "</table>\n",
              "</div>\n",
              "      <button class=\"colab-df-convert\" onclick=\"convertToInteractive('df-bce70e55-87de-4bef-8abf-bb6294775e6d')\"\n",
              "              title=\"Convert this dataframe to an interactive table.\"\n",
              "              style=\"display:none;\">\n",
              "        \n",
              "  <svg xmlns=\"http://www.w3.org/2000/svg\" height=\"24px\"viewBox=\"0 0 24 24\"\n",
              "       width=\"24px\">\n",
              "    <path d=\"M0 0h24v24H0V0z\" fill=\"none\"/>\n",
              "    <path d=\"M18.56 5.44l.94 2.06.94-2.06 2.06-.94-2.06-.94-.94-2.06-.94 2.06-2.06.94zm-11 1L8.5 8.5l.94-2.06 2.06-.94-2.06-.94L8.5 2.5l-.94 2.06-2.06.94zm10 10l.94 2.06.94-2.06 2.06-.94-2.06-.94-.94-2.06-.94 2.06-2.06.94z\"/><path d=\"M17.41 7.96l-1.37-1.37c-.4-.4-.92-.59-1.43-.59-.52 0-1.04.2-1.43.59L10.3 9.45l-7.72 7.72c-.78.78-.78 2.05 0 2.83L4 21.41c.39.39.9.59 1.41.59.51 0 1.02-.2 1.41-.59l7.78-7.78 2.81-2.81c.8-.78.8-2.07 0-2.86zM5.41 20L4 18.59l7.72-7.72 1.47 1.35L5.41 20z\"/>\n",
              "  </svg>\n",
              "      </button>\n",
              "      \n",
              "  <style>\n",
              "    .colab-df-container {\n",
              "      display:flex;\n",
              "      flex-wrap:wrap;\n",
              "      gap: 12px;\n",
              "    }\n",
              "\n",
              "    .colab-df-convert {\n",
              "      background-color: #E8F0FE;\n",
              "      border: none;\n",
              "      border-radius: 50%;\n",
              "      cursor: pointer;\n",
              "      display: none;\n",
              "      fill: #1967D2;\n",
              "      height: 32px;\n",
              "      padding: 0 0 0 0;\n",
              "      width: 32px;\n",
              "    }\n",
              "\n",
              "    .colab-df-convert:hover {\n",
              "      background-color: #E2EBFA;\n",
              "      box-shadow: 0px 1px 2px rgba(60, 64, 67, 0.3), 0px 1px 3px 1px rgba(60, 64, 67, 0.15);\n",
              "      fill: #174EA6;\n",
              "    }\n",
              "\n",
              "    [theme=dark] .colab-df-convert {\n",
              "      background-color: #3B4455;\n",
              "      fill: #D2E3FC;\n",
              "    }\n",
              "\n",
              "    [theme=dark] .colab-df-convert:hover {\n",
              "      background-color: #434B5C;\n",
              "      box-shadow: 0px 1px 3px 1px rgba(0, 0, 0, 0.15);\n",
              "      filter: drop-shadow(0px 1px 2px rgba(0, 0, 0, 0.3));\n",
              "      fill: #FFFFFF;\n",
              "    }\n",
              "  </style>\n",
              "\n",
              "      <script>\n",
              "        const buttonEl =\n",
              "          document.querySelector('#df-bce70e55-87de-4bef-8abf-bb6294775e6d button.colab-df-convert');\n",
              "        buttonEl.style.display =\n",
              "          google.colab.kernel.accessAllowed ? 'block' : 'none';\n",
              "\n",
              "        async function convertToInteractive(key) {\n",
              "          const element = document.querySelector('#df-bce70e55-87de-4bef-8abf-bb6294775e6d');\n",
              "          const dataTable =\n",
              "            await google.colab.kernel.invokeFunction('convertToInteractive',\n",
              "                                                     [key], {});\n",
              "          if (!dataTable) return;\n",
              "\n",
              "          const docLinkHtml = 'Like what you see? Visit the ' +\n",
              "            '<a target=\"_blank\" href=https://colab.research.google.com/notebooks/data_table.ipynb>data table notebook</a>'\n",
              "            + ' to learn more about interactive tables.';\n",
              "          element.innerHTML = '';\n",
              "          dataTable['output_type'] = 'display_data';\n",
              "          await google.colab.output.renderOutput(dataTable, element);\n",
              "          const docLink = document.createElement('div');\n",
              "          docLink.innerHTML = docLinkHtml;\n",
              "          element.appendChild(docLink);\n",
              "        }\n",
              "      </script>\n",
              "    </div>\n",
              "  </div>\n",
              "  "
            ]
          },
          "metadata": {},
          "execution_count": 290
        }
      ],
      "source": [
        "ne99.describe()"
      ]
    },
    {
      "cell_type": "code",
      "execution_count": 291,
      "metadata": {
        "colab": {
          "base_uri": "https://localhost:8080/",
          "height": 431
        },
        "id": "EnS552PwK8A0",
        "outputId": "29f40e7f-8d51-423b-fd81-2c207a62b7fe"
      },
      "outputs": [
        {
          "output_type": "stream",
          "name": "stderr",
          "text": [
            "/usr/local/lib/python3.9/dist-packages/seaborn/distributions.py:2619: FutureWarning: `distplot` is a deprecated function and will be removed in a future version. Please adapt your code to use either `displot` (a figure-level function with similar flexibility) or `histplot` (an axes-level function for histograms).\n",
            "  warnings.warn(msg, FutureWarning)\n"
          ]
        },
        {
          "output_type": "execute_result",
          "data": {
            "text/plain": [
              "<AxesSubplot:xlabel='price', ylabel='Density'>"
            ]
          },
          "metadata": {},
          "execution_count": 291
        },
        {
          "output_type": "display_data",
          "data": {
            "text/plain": [
              "<Figure size 1368x720 with 1 Axes>"
            ],
            "image/png": "[encoded data removed]"
          },
          "metadata": {
            "needs_background": "light"
          }
        }
      ],
      "source": [
        "plt.figure(figsize=(19,10))\n",
        "sbn.distplot(ne99[\"price\"])"
      ]
    },
    {
      "cell_type": "code",
      "execution_count": 292,
      "metadata": {
        "colab": {
          "base_uri": "https://localhost:8080/",
          "height": 364
        },
        "id": "9jGqnjk0LLxy",
        "outputId": "36bfe708-bc47-4aae-cfa8-a5e5cc5ed7fa"
      },
      "outputs": [
        {
          "output_type": "execute_result",
          "data": {
            "text/plain": [
              "               year          price        mileage           tax           mpg  \\\n",
              "count  13119.000000   13119.000000   13119.000000  13119.000000  13119.000000   \n",
              "mean    2017.296288   24698.596920   21949.559037    129.972178     55.155843   \n",
              "std        2.224709   11842.675542   21176.512267     65.260286     15.220082   \n",
              "min     1970.000000     650.000000       1.000000      0.000000      1.100000   \n",
              "25%     2016.000000   17450.000000    6097.500000    125.000000     45.600000   \n",
              "50%     2018.000000   22480.000000   15189.000000    145.000000     56.500000   \n",
              "75%     2019.000000   28980.000000   31779.500000    145.000000     64.200000   \n",
              "max     2020.000000  159999.000000  259000.000000    580.000000    217.300000   \n",
              "\n",
              "         engineSize  \n",
              "count  13119.000000  \n",
              "mean       2.071530  \n",
              "std        0.572426  \n",
              "min        0.000000  \n",
              "25%        1.800000  \n",
              "50%        2.000000  \n",
              "75%        2.100000  \n",
              "max        6.200000  "
            ],
            "text/html": [
              "\n",
              "  <div id=\"df-c0fbd485-e778-4545-967a-b7f8cd4581b5\">\n",
              "    <div class=\"colab-df-container\">\n",
              "      <div>\n",
              "<style scoped>\n",
              "    .dataframe tbody tr th:only-of-type {\n",
              "        vertical-align: middle;\n",
              "    }\n",
              "\n",
              "    .dataframe tbody tr th {\n",
              "        vertical-align: top;\n",
              "    }\n",
              "\n",
              "    .dataframe thead th {\n",
              "        text-align: right;\n",
              "    }\n",
              "</style>\n",
              "<table border=\"1\" class=\"dataframe\">\n",
              "  <thead>\n",
              "    <tr style=\"text-align: right;\">\n",
              "      <th></th>\n",
              "      <th>year</th>\n",
              "      <th>price</th>\n",
              "      <th>mileage</th>\n",
              "      <th>tax</th>\n",
              "      <th>mpg</th>\n",
              "      <th>engineSize</th>\n",
              "    </tr>\n",
              "  </thead>\n",
              "  <tbody>\n",
              "    <tr>\n",
              "      <th>count</th>\n",
              "      <td>13119.000000</td>\n",
              "      <td>13119.000000</td>\n",
              "      <td>13119.000000</td>\n",
              "      <td>13119.000000</td>\n",
              "      <td>13119.000000</td>\n",
              "      <td>13119.000000</td>\n",
              "    </tr>\n",
              "    <tr>\n",
              "      <th>mean</th>\n",
              "      <td>2017.296288</td>\n",
              "      <td>24698.596920</td>\n",
              "      <td>21949.559037</td>\n",
              "      <td>129.972178</td>\n",
              "      <td>55.155843</td>\n",
              "      <td>2.071530</td>\n",
              "    </tr>\n",
              "    <tr>\n",
              "      <th>std</th>\n",
              "      <td>2.224709</td>\n",
              "      <td>11842.675542</td>\n",
              "      <td>21176.512267</td>\n",
              "      <td>65.260286</td>\n",
              "      <td>15.220082</td>\n",
              "      <td>0.572426</td>\n",
              "    </tr>\n",
              "    <tr>\n",
              "      <th>min</th>\n",
              "      <td>1970.000000</td>\n",
              "      <td>650.000000</td>\n",
              "      <td>1.000000</td>\n",
              "      <td>0.000000</td>\n",
              "      <td>1.100000</td>\n",
              "      <td>0.000000</td>\n",
              "    </tr>\n",
              "    <tr>\n",
              "      <th>25%</th>\n",
              "      <td>2016.000000</td>\n",
              "      <td>17450.000000</td>\n",
              "      <td>6097.500000</td>\n",
              "      <td>125.000000</td>\n",
              "      <td>45.600000</td>\n",
              "      <td>1.800000</td>\n",
              "    </tr>\n",
              "    <tr>\n",
              "      <th>50%</th>\n",
              "      <td>2018.000000</td>\n",
              "      <td>22480.000000</td>\n",
              "      <td>15189.000000</td>\n",
              "      <td>145.000000</td>\n",
              "      <td>56.500000</td>\n",
              "      <td>2.000000</td>\n",
              "    </tr>\n",
              "    <tr>\n",
              "      <th>75%</th>\n",
              "      <td>2019.000000</td>\n",
              "      <td>28980.000000</td>\n",
              "      <td>31779.500000</td>\n",
              "      <td>145.000000</td>\n",
              "      <td>64.200000</td>\n",
              "      <td>2.100000</td>\n",
              "    </tr>\n",
              "    <tr>\n",
              "      <th>max</th>\n",
              "      <td>2020.000000</td>\n",
              "      <td>159999.000000</td>\n",
              "      <td>259000.000000</td>\n",
              "      <td>580.000000</td>\n",
              "      <td>217.300000</td>\n",
              "      <td>6.200000</td>\n",
              "    </tr>\n",
              "  </tbody>\n",
              "</table>\n",
              "</div>\n",
              "      <button class=\"colab-df-convert\" onclick=\"convertToInteractive('df-c0fbd485-e778-4545-967a-b7f8cd4581b5')\"\n",
              "              title=\"Convert this dataframe to an interactive table.\"\n",
              "              style=\"display:none;\">\n",
              "        \n",
              "  <svg xmlns=\"http://www.w3.org/2000/svg\" height=\"24px\"viewBox=\"0 0 24 24\"\n",
              "       width=\"24px\">\n",
              "    <path d=\"M0 0h24v24H0V0z\" fill=\"none\"/>\n",
              "    <path d=\"M18.56 5.44l.94 2.06.94-2.06 2.06-.94-2.06-.94-.94-2.06-.94 2.06-2.06.94zm-11 1L8.5 8.5l.94-2.06 2.06-.94-2.06-.94L8.5 2.5l-.94 2.06-2.06.94zm10 10l.94 2.06.94-2.06 2.06-.94-2.06-.94-.94-2.06-.94 2.06-2.06.94z\"/><path d=\"M17.41 7.96l-1.37-1.37c-.4-.4-.92-.59-1.43-.59-.52 0-1.04.2-1.43.59L10.3 9.45l-7.72 7.72c-.78.78-.78 2.05 0 2.83L4 21.41c.39.39.9.59 1.41.59.51 0 1.02-.2 1.41-.59l7.78-7.78 2.81-2.81c.8-.78.8-2.07 0-2.86zM5.41 20L4 18.59l7.72-7.72 1.47 1.35L5.41 20z\"/>\n",
              "  </svg>\n",
              "      </button>\n",
              "      \n",
              "  <style>\n",
              "    .colab-df-container {\n",
              "      display:flex;\n",
              "      flex-wrap:wrap;\n",
              "      gap: 12px;\n",
              "    }\n",
              "\n",
              "    .colab-df-convert {\n",
              "      background-color: #E8F0FE;\n",
              "      border: none;\n",
              "      border-radius: 50%;\n",
              "      cursor: pointer;\n",
              "      display: none;\n",
              "      fill: #1967D2;\n",
              "      height: 32px;\n",
              "      padding: 0 0 0 0;\n",
              "      width: 32px;\n",
              "    }\n",
              "\n",
              "    .colab-df-convert:hover {\n",
              "      background-color: #E2EBFA;\n",
              "      box-shadow: 0px 1px 2px rgba(60, 64, 67, 0.3), 0px 1px 3px 1px rgba(60, 64, 67, 0.15);\n",
              "      fill: #174EA6;\n",
              "    }\n",
              "\n",
              "    [theme=dark] .colab-df-convert {\n",
              "      background-color: #3B4455;\n",
              "      fill: #D2E3FC;\n",
              "    }\n",
              "\n",
              "    [theme=dark] .colab-df-convert:hover {\n",
              "      background-color: #434B5C;\n",
              "      box-shadow: 0px 1px 3px 1px rgba(0, 0, 0, 0.15);\n",
              "      filter: drop-shadow(0px 1px 2px rgba(0, 0, 0, 0.3));\n",
              "      fill: #FFFFFF;\n",
              "    }\n",
              "  </style>\n",
              "\n",
              "      <script>\n",
              "        const buttonEl =\n",
              "          document.querySelector('#df-c0fbd485-e778-4545-967a-b7f8cd4581b5 button.colab-df-convert');\n",
              "        buttonEl.style.display =\n",
              "          google.colab.kernel.accessAllowed ? 'block' : 'none';\n",
              "\n",
              "        async function convertToInteractive(key) {\n",
              "          const element = document.querySelector('#df-c0fbd485-e778-4545-967a-b7f8cd4581b5');\n",
              "          const dataTable =\n",
              "            await google.colab.kernel.invokeFunction('convertToInteractive',\n",
              "                                                     [key], {});\n",
              "          if (!dataTable) return;\n",
              "\n",
              "          const docLinkHtml = 'Like what you see? Visit the ' +\n",
              "            '<a target=\"_blank\" href=https://colab.research.google.com/notebooks/data_table.ipynb>data table notebook</a>'\n",
              "            + ' to learn more about interactive tables.';\n",
              "          element.innerHTML = '';\n",
              "          dataTable['output_type'] = 'display_data';\n",
              "          await google.colab.output.renderOutput(dataTable, element);\n",
              "          const docLink = document.createElement('div');\n",
              "          docLink.innerHTML = docLinkHtml;\n",
              "          element.appendChild(docLink);\n",
              "        }\n",
              "      </script>\n",
              "    </div>\n",
              "  </div>\n",
              "  "
            ]
          },
          "metadata": {},
          "execution_count": 292
        }
      ],
      "source": [
        "dataFrame.describe()"
      ]
    },
    {
      "cell_type": "code",
      "execution_count": 293,
      "metadata": {
        "colab": {
          "base_uri": "https://localhost:8080/"
        },
        "id": "n1SDOSP3LpKP",
        "outputId": "473eb523-90c9-4c66-99f5-fc10a92f97a8"
      },
      "outputs": [
        {
          "output_type": "execute_result",
          "data": {
            "text/plain": [
              "year\n",
              "1970    24999.000000\n",
              "1997     9995.000000\n",
              "1998     8605.000000\n",
              "1999     5995.000000\n",
              "2000     5743.333333\n",
              "2001     4957.900000\n",
              "2002     5820.444444\n",
              "2003     4878.000000\n",
              "2004     4727.615385\n",
              "2005     4426.111111\n",
              "2006     4036.875000\n",
              "2007     5136.045455\n",
              "2008     6967.437500\n",
              "2009     6166.764706\n",
              "2010     8308.473684\n",
              "2011    12624.894737\n",
              "2012    10845.140351\n",
              "2013    11939.842466\n",
              "2014    14042.936864\n",
              "2015    16731.780020\n",
              "2016    19307.892948\n",
              "2017    21514.307854\n",
              "2018    25720.162918\n",
              "2019    31290.020865\n",
              "2020    35433.282337\n",
              "Name: price, dtype: float64"
            ]
          },
          "metadata": {},
          "execution_count": 293
        }
      ],
      "source": [
        "dataFrame.groupby(\"year\").mean()[\"price\"]"
      ]
    },
    {
      "cell_type": "code",
      "execution_count": 294,
      "metadata": {
        "colab": {
          "base_uri": "https://localhost:8080/"
        },
        "id": "bD2q_61gLtBa",
        "outputId": "5972bc4e-8c5e-48fd-8aac-9469c1360b59"
      },
      "outputs": [
        {
          "output_type": "execute_result",
          "data": {
            "text/plain": [
              "year\n",
              "1970    24999.000000\n",
              "1997     9995.000000\n",
              "1998     8605.000000\n",
              "1999     5995.000000\n",
              "2000     5743.333333\n",
              "2001     4957.900000\n",
              "2002     5820.444444\n",
              "2003     4878.000000\n",
              "2004     4727.615385\n",
              "2005     4426.111111\n",
              "2006     4036.875000\n",
              "2007     5136.045455\n",
              "2008     6967.437500\n",
              "2009     6166.764706\n",
              "2010     8308.473684\n",
              "2011     8913.459459\n",
              "2012    10845.140351\n",
              "2013    11939.842466\n",
              "2014    14042.936864\n",
              "2015    16647.822222\n",
              "2016    19223.558943\n",
              "2017    21356.280421\n",
              "2018    24800.844506\n",
              "2019    30289.524832\n",
              "2020    34234.794872\n",
              "Name: price, dtype: float64"
            ]
          },
          "metadata": {},
          "execution_count": 294
        }
      ],
      "source": [
        "ne99.groupby(\"year\").mean()[\"price\"]"
      ]
    },
    {
      "cell_type": "code",
      "execution_count": 295,
      "metadata": {
        "colab": {
          "base_uri": "https://localhost:8080/"
        },
        "id": "2_wwTXJOMHUL",
        "outputId": "23d1d24c-eefb-445f-dedc-fb6f3f204859"
      },
      "outputs": [
        {
          "output_type": "execute_result",
          "data": {
            "text/plain": [
              "year\n",
              "1997     9995.000000\n",
              "1998     8605.000000\n",
              "1999     5995.000000\n",
              "2000     5743.333333\n",
              "2001     4957.900000\n",
              "2002     5820.444444\n",
              "2003     4878.000000\n",
              "2004     4727.615385\n",
              "2005     4426.111111\n",
              "2006     4036.875000\n",
              "2007     5136.045455\n",
              "2008     6967.437500\n",
              "2009     6166.764706\n",
              "2010     8308.473684\n",
              "2011    12624.894737\n",
              "2012    10845.140351\n",
              "2013    11939.842466\n",
              "2014    14042.936864\n",
              "2015    16731.780020\n",
              "2016    19307.892948\n",
              "2017    21514.307854\n",
              "2018    25720.162918\n",
              "2019    31290.020865\n",
              "2020    35433.282337\n",
              "Name: price, dtype: float64"
            ]
          },
          "metadata": {},
          "execution_count": 295
        }
      ],
      "source": [
        "dataFrame[dataFrame.year !=1970].groupby(\"year\").mean()[\"price\"]"
      ]
    },
    {
      "cell_type": "code",
      "execution_count": 296,
      "metadata": {
        "id": "OU5imNShMX3V"
      },
      "outputs": [],
      "source": [
        "dataFrame = ne99"
      ]
    },
    {
      "cell_type": "code",
      "execution_count": 297,
      "metadata": {
        "colab": {
          "base_uri": "https://localhost:8080/",
          "height": 364
        },
        "id": "OGf71_uRMvmy",
        "outputId": "ace6b318-6d4c-42bb-eee2-5503c0684bba"
      },
      "outputs": [
        {
          "output_type": "execute_result",
          "data": {
            "text/plain": [
              "               year         price        mileage           tax           mpg  \\\n",
              "count  12988.000000  12988.000000   12988.000000  12988.000000  12988.000000   \n",
              "mean    2017.281876  24074.926933   22132.741146    129.689714     55.437142   \n",
              "std        2.228515   9866.224575   21196.776401     65.183076     15.025999   \n",
              "min     1970.000000    650.000000       1.000000      0.000000      1.100000   \n",
              "25%     2016.000000  17357.500000    6322.000000    125.000000     45.600000   \n",
              "50%     2018.000000  22299.000000   15369.500000    145.000000     56.500000   \n",
              "75%     2019.000000  28706.000000   31982.250000    145.000000     64.200000   \n",
              "max     2020.000000  65990.000000  259000.000000    580.000000    217.300000   \n",
              "\n",
              "         engineSize  \n",
              "count  12988.000000  \n",
              "mean       2.050901  \n",
              "std        0.532596  \n",
              "min        0.000000  \n",
              "25%        1.675000  \n",
              "50%        2.000000  \n",
              "75%        2.100000  \n",
              "max        6.200000  "
            ],
            "text/html": [
              "\n",
              "  <div id=\"df-cb8b4643-40bf-4602-adef-e8544deed0fa\">\n",
              "    <div class=\"colab-df-container\">\n",
              "      <div>\n",
              "<style scoped>\n",
              "    .dataframe tbody tr th:only-of-type {\n",
              "        vertical-align: middle;\n",
              "    }\n",
              "\n",
              "    .dataframe tbody tr th {\n",
              "        vertical-align: top;\n",
              "    }\n",
              "\n",
              "    .dataframe thead th {\n",
              "        text-align: right;\n",
              "    }\n",
              "</style>\n",
              "<table border=\"1\" class=\"dataframe\">\n",
              "  <thead>\n",
              "    <tr style=\"text-align: right;\">\n",
              "      <th></th>\n",
              "      <th>year</th>\n",
              "      <th>price</th>\n",
              "      <th>mileage</th>\n",
              "      <th>tax</th>\n",
              "      <th>mpg</th>\n",
              "      <th>engineSize</th>\n",
              "    </tr>\n",
              "  </thead>\n",
              "  <tbody>\n",
              "    <tr>\n",
              "      <th>count</th>\n",
              "      <td>12988.000000</td>\n",
              "      <td>12988.000000</td>\n",
              "      <td>12988.000000</td>\n",
              "      <td>12988.000000</td>\n",
              "      <td>12988.000000</td>\n",
              "      <td>12988.000000</td>\n",
              "    </tr>\n",
              "    <tr>\n",
              "      <th>mean</th>\n",
              "      <td>2017.281876</td>\n",
              "      <td>24074.926933</td>\n",
              "      <td>22132.741146</td>\n",
              "      <td>129.689714</td>\n",
              "      <td>55.437142</td>\n",
              "      <td>2.050901</td>\n",
              "    </tr>\n",
              "    <tr>\n",
              "      <th>std</th>\n",
              "      <td>2.228515</td>\n",
              "      <td>9866.224575</td>\n",
              "      <td>21196.776401</td>\n",
              "      <td>65.183076</td>\n",
              "      <td>15.025999</td>\n",
              "      <td>0.532596</td>\n",
              "    </tr>\n",
              "    <tr>\n",
              "      <th>min</th>\n",
              "      <td>1970.000000</td>\n",
              "      <td>650.000000</td>\n",
              "      <td>1.000000</td>\n",
              "      <td>0.000000</td>\n",
              "      <td>1.100000</td>\n",
              "      <td>0.000000</td>\n",
              "    </tr>\n",
              "    <tr>\n",
              "      <th>25%</th>\n",
              "      <td>2016.000000</td>\n",
              "      <td>17357.500000</td>\n",
              "      <td>6322.000000</td>\n",
              "      <td>125.000000</td>\n",
              "      <td>45.600000</td>\n",
              "      <td>1.675000</td>\n",
              "    </tr>\n",
              "    <tr>\n",
              "      <th>50%</th>\n",
              "      <td>2018.000000</td>\n",
              "      <td>22299.000000</td>\n",
              "      <td>15369.500000</td>\n",
              "      <td>145.000000</td>\n",
              "      <td>56.500000</td>\n",
              "      <td>2.000000</td>\n",
              "    </tr>\n",
              "    <tr>\n",
              "      <th>75%</th>\n",
              "      <td>2019.000000</td>\n",
              "      <td>28706.000000</td>\n",
              "      <td>31982.250000</td>\n",
              "      <td>145.000000</td>\n",
              "      <td>64.200000</td>\n",
              "      <td>2.100000</td>\n",
              "    </tr>\n",
              "    <tr>\n",
              "      <th>max</th>\n",
              "      <td>2020.000000</td>\n",
              "      <td>65990.000000</td>\n",
              "      <td>259000.000000</td>\n",
              "      <td>580.000000</td>\n",
              "      <td>217.300000</td>\n",
              "      <td>6.200000</td>\n",
              "    </tr>\n",
              "  </tbody>\n",
              "</table>\n",
              "</div>\n",
              "      <button class=\"colab-df-convert\" onclick=\"convertToInteractive('df-cb8b4643-40bf-4602-adef-e8544deed0fa')\"\n",
              "              title=\"Convert this dataframe to an interactive table.\"\n",
              "              style=\"display:none;\">\n",
              "        \n",
              "  <svg xmlns=\"http://www.w3.org/2000/svg\" height=\"24px\"viewBox=\"0 0 24 24\"\n",
              "       width=\"24px\">\n",
              "    <path d=\"M0 0h24v24H0V0z\" fill=\"none\"/>\n",
              "    <path d=\"M18.56 5.44l.94 2.06.94-2.06 2.06-.94-2.06-.94-.94-2.06-.94 2.06-2.06.94zm-11 1L8.5 8.5l.94-2.06 2.06-.94-2.06-.94L8.5 2.5l-.94 2.06-2.06.94zm10 10l.94 2.06.94-2.06 2.06-.94-2.06-.94-.94-2.06-.94 2.06-2.06.94z\"/><path d=\"M17.41 7.96l-1.37-1.37c-.4-.4-.92-.59-1.43-.59-.52 0-1.04.2-1.43.59L10.3 9.45l-7.72 7.72c-.78.78-.78 2.05 0 2.83L4 21.41c.39.39.9.59 1.41.59.51 0 1.02-.2 1.41-.59l7.78-7.78 2.81-2.81c.8-.78.8-2.07 0-2.86zM5.41 20L4 18.59l7.72-7.72 1.47 1.35L5.41 20z\"/>\n",
              "  </svg>\n",
              "      </button>\n",
              "      \n",
              "  <style>\n",
              "    .colab-df-container {\n",
              "      display:flex;\n",
              "      flex-wrap:wrap;\n",
              "      gap: 12px;\n",
              "    }\n",
              "\n",
              "    .colab-df-convert {\n",
              "      background-color: #E8F0FE;\n",
              "      border: none;\n",
              "      border-radius: 50%;\n",
              "      cursor: pointer;\n",
              "      display: none;\n",
              "      fill: #1967D2;\n",
              "      height: 32px;\n",
              "      padding: 0 0 0 0;\n",
              "      width: 32px;\n",
              "    }\n",
              "\n",
              "    .colab-df-convert:hover {\n",
              "      background-color: #E2EBFA;\n",
              "      box-shadow: 0px 1px 2px rgba(60, 64, 67, 0.3), 0px 1px 3px 1px rgba(60, 64, 67, 0.15);\n",
              "      fill: #174EA6;\n",
              "    }\n",
              "\n",
              "    [theme=dark] .colab-df-convert {\n",
              "      background-color: #3B4455;\n",
              "      fill: #D2E3FC;\n",
              "    }\n",
              "\n",
              "    [theme=dark] .colab-df-convert:hover {\n",
              "      background-color: #434B5C;\n",
              "      box-shadow: 0px 1px 3px 1px rgba(0, 0, 0, 0.15);\n",
              "      filter: drop-shadow(0px 1px 2px rgba(0, 0, 0, 0.3));\n",
              "      fill: #FFFFFF;\n",
              "    }\n",
              "  </style>\n",
              "\n",
              "      <script>\n",
              "        const buttonEl =\n",
              "          document.querySelector('#df-cb8b4643-40bf-4602-adef-e8544deed0fa button.colab-df-convert');\n",
              "        buttonEl.style.display =\n",
              "          google.colab.kernel.accessAllowed ? 'block' : 'none';\n",
              "\n",
              "        async function convertToInteractive(key) {\n",
              "          const element = document.querySelector('#df-cb8b4643-40bf-4602-adef-e8544deed0fa');\n",
              "          const dataTable =\n",
              "            await google.colab.kernel.invokeFunction('convertToInteractive',\n",
              "                                                     [key], {});\n",
              "          if (!dataTable) return;\n",
              "\n",
              "          const docLinkHtml = 'Like what you see? Visit the ' +\n",
              "            '<a target=\"_blank\" href=https://colab.research.google.com/notebooks/data_table.ipynb>data table notebook</a>'\n",
              "            + ' to learn more about interactive tables.';\n",
              "          element.innerHTML = '';\n",
              "          dataTable['output_type'] = 'display_data';\n",
              "          await google.colab.output.renderOutput(dataTable, element);\n",
              "          const docLink = document.createElement('div');\n",
              "          docLink.innerHTML = docLinkHtml;\n",
              "          element.appendChild(docLink);\n",
              "        }\n",
              "      </script>\n",
              "    </div>\n",
              "  </div>\n",
              "  "
            ]
          },
          "metadata": {},
          "execution_count": 297
        }
      ],
      "source": [
        "dataFrame.describe()"
      ]
    },
    {
      "cell_type": "code",
      "execution_count": 298,
      "metadata": {
        "id": "rytZmhrxMxn-"
      },
      "outputs": [],
      "source": [
        "dataFrame = dataFrame[dataFrame.year != 1970]"
      ]
    },
    {
      "cell_type": "code",
      "execution_count": 299,
      "metadata": {
        "colab": {
          "base_uri": "https://localhost:8080/"
        },
        "id": "P37ukAMwM24Z",
        "outputId": "7e480fb2-4e67-430c-f911-463f2f348efb"
      },
      "outputs": [
        {
          "output_type": "execute_result",
          "data": {
            "text/plain": [
              "year\n",
              "1997     9995.000000\n",
              "1998     8605.000000\n",
              "1999     5995.000000\n",
              "2000     5743.333333\n",
              "2001     4957.900000\n",
              "2002     5820.444444\n",
              "2003     4878.000000\n",
              "2004     4727.615385\n",
              "2005     4426.111111\n",
              "2006     4036.875000\n",
              "2007     5136.045455\n",
              "2008     6967.437500\n",
              "2009     6166.764706\n",
              "2010     8308.473684\n",
              "2011     8913.459459\n",
              "2012    10845.140351\n",
              "2013    11939.842466\n",
              "2014    14042.936864\n",
              "2015    16647.822222\n",
              "2016    19223.558943\n",
              "2017    21356.280421\n",
              "2018    24800.844506\n",
              "2019    30289.524832\n",
              "2020    34234.794872\n",
              "Name: price, dtype: float64"
            ]
          },
          "metadata": {},
          "execution_count": 299
        }
      ],
      "source": [
        "dataFrame.groupby(\"year\").mean()[\"price\"]"
      ]
    },
    {
      "cell_type": "code",
      "execution_count": 300,
      "metadata": {
        "colab": {
          "base_uri": "https://localhost:8080/",
          "height": 206
        },
        "id": "E9ajfeI2M8T0",
        "outputId": "3a631e44-a36a-4a1f-f58d-753011a11e46"
      },
      "outputs": [
        {
          "output_type": "execute_result",
          "data": {
            "text/plain": [
              "      year  price transmission  mileage  tax   mpg  engineSize\n",
              "6177  2019  65990    Semi-Auto     5076  150  30.4         3.0\n",
              "5779  2020  65990    Semi-Auto      999  145  28.0         4.0\n",
              "3191  2020  65980    Semi-Auto     3999  145  28.0         4.0\n",
              "4727  2019  65000    Semi-Auto     3398  145  27.2         4.0\n",
              "8814  2019  64999    Semi-Auto      119  145  40.9         3.0"
            ],
            "text/html": [
              "\n",
              "  <div id=\"df-0aa7840f-8d4b-490d-bd52-1d07f002cb6e\">\n",
              "    <div class=\"colab-df-container\">\n",
              "      <div>\n",
              "<style scoped>\n",
              "    .dataframe tbody tr th:only-of-type {\n",
              "        vertical-align: middle;\n",
              "    }\n",
              "\n",
              "    .dataframe tbody tr th {\n",
              "        vertical-align: top;\n",
              "    }\n",
              "\n",
              "    .dataframe thead th {\n",
              "        text-align: right;\n",
              "    }\n",
              "</style>\n",
              "<table border=\"1\" class=\"dataframe\">\n",
              "  <thead>\n",
              "    <tr style=\"text-align: right;\">\n",
              "      <th></th>\n",
              "      <th>year</th>\n",
              "      <th>price</th>\n",
              "      <th>transmission</th>\n",
              "      <th>mileage</th>\n",
              "      <th>tax</th>\n",
              "      <th>mpg</th>\n",
              "      <th>engineSize</th>\n",
              "    </tr>\n",
              "  </thead>\n",
              "  <tbody>\n",
              "    <tr>\n",
              "      <th>6177</th>\n",
              "      <td>2019</td>\n",
              "      <td>65990</td>\n",
              "      <td>Semi-Auto</td>\n",
              "      <td>5076</td>\n",
              "      <td>150</td>\n",
              "      <td>30.4</td>\n",
              "      <td>3.0</td>\n",
              "    </tr>\n",
              "    <tr>\n",
              "      <th>5779</th>\n",
              "      <td>2020</td>\n",
              "      <td>65990</td>\n",
              "      <td>Semi-Auto</td>\n",
              "      <td>999</td>\n",
              "      <td>145</td>\n",
              "      <td>28.0</td>\n",
              "      <td>4.0</td>\n",
              "    </tr>\n",
              "    <tr>\n",
              "      <th>3191</th>\n",
              "      <td>2020</td>\n",
              "      <td>65980</td>\n",
              "      <td>Semi-Auto</td>\n",
              "      <td>3999</td>\n",
              "      <td>145</td>\n",
              "      <td>28.0</td>\n",
              "      <td>4.0</td>\n",
              "    </tr>\n",
              "    <tr>\n",
              "      <th>4727</th>\n",
              "      <td>2019</td>\n",
              "      <td>65000</td>\n",
              "      <td>Semi-Auto</td>\n",
              "      <td>3398</td>\n",
              "      <td>145</td>\n",
              "      <td>27.2</td>\n",
              "      <td>4.0</td>\n",
              "    </tr>\n",
              "    <tr>\n",
              "      <th>8814</th>\n",
              "      <td>2019</td>\n",
              "      <td>64999</td>\n",
              "      <td>Semi-Auto</td>\n",
              "      <td>119</td>\n",
              "      <td>145</td>\n",
              "      <td>40.9</td>\n",
              "      <td>3.0</td>\n",
              "    </tr>\n",
              "  </tbody>\n",
              "</table>\n",
              "</div>\n",
              "      <button class=\"colab-df-convert\" onclick=\"convertToInteractive('df-0aa7840f-8d4b-490d-bd52-1d07f002cb6e')\"\n",
              "              title=\"Convert this dataframe to an interactive table.\"\n",
              "              style=\"display:none;\">\n",
              "        \n",
              "  <svg xmlns=\"http://www.w3.org/2000/svg\" height=\"24px\"viewBox=\"0 0 24 24\"\n",
              "       width=\"24px\">\n",
              "    <path d=\"M0 0h24v24H0V0z\" fill=\"none\"/>\n",
              "    <path d=\"M18.56 5.44l.94 2.06.94-2.06 2.06-.94-2.06-.94-.94-2.06-.94 2.06-2.06.94zm-11 1L8.5 8.5l.94-2.06 2.06-.94-2.06-.94L8.5 2.5l-.94 2.06-2.06.94zm10 10l.94 2.06.94-2.06 2.06-.94-2.06-.94-.94-2.06-.94 2.06-2.06.94z\"/><path d=\"M17.41 7.96l-1.37-1.37c-.4-.4-.92-.59-1.43-.59-.52 0-1.04.2-1.43.59L10.3 9.45l-7.72 7.72c-.78.78-.78 2.05 0 2.83L4 21.41c.39.39.9.59 1.41.59.51 0 1.02-.2 1.41-.59l7.78-7.78 2.81-2.81c.8-.78.8-2.07 0-2.86zM5.41 20L4 18.59l7.72-7.72 1.47 1.35L5.41 20z\"/>\n",
              "  </svg>\n",
              "      </button>\n",
              "      \n",
              "  <style>\n",
              "    .colab-df-container {\n",
              "      display:flex;\n",
              "      flex-wrap:wrap;\n",
              "      gap: 12px;\n",
              "    }\n",
              "\n",
              "    .colab-df-convert {\n",
              "      background-color: #E8F0FE;\n",
              "      border: none;\n",
              "      border-radius: 50%;\n",
              "      cursor: pointer;\n",
              "      display: none;\n",
              "      fill: #1967D2;\n",
              "      height: 32px;\n",
              "      padding: 0 0 0 0;\n",
              "      width: 32px;\n",
              "    }\n",
              "\n",
              "    .colab-df-convert:hover {\n",
              "      background-color: #E2EBFA;\n",
              "      box-shadow: 0px 1px 2px rgba(60, 64, 67, 0.3), 0px 1px 3px 1px rgba(60, 64, 67, 0.15);\n",
              "      fill: #174EA6;\n",
              "    }\n",
              "\n",
              "    [theme=dark] .colab-df-convert {\n",
              "      background-color: #3B4455;\n",
              "      fill: #D2E3FC;\n",
              "    }\n",
              "\n",
              "    [theme=dark] .colab-df-convert:hover {\n",
              "      background-color: #434B5C;\n",
              "      box-shadow: 0px 1px 3px 1px rgba(0, 0, 0, 0.15);\n",
              "      filter: drop-shadow(0px 1px 2px rgba(0, 0, 0, 0.3));\n",
              "      fill: #FFFFFF;\n",
              "    }\n",
              "  </style>\n",
              "\n",
              "      <script>\n",
              "        const buttonEl =\n",
              "          document.querySelector('#df-0aa7840f-8d4b-490d-bd52-1d07f002cb6e button.colab-df-convert');\n",
              "        buttonEl.style.display =\n",
              "          google.colab.kernel.accessAllowed ? 'block' : 'none';\n",
              "\n",
              "        async function convertToInteractive(key) {\n",
              "          const element = document.querySelector('#df-0aa7840f-8d4b-490d-bd52-1d07f002cb6e');\n",
              "          const dataTable =\n",
              "            await google.colab.kernel.invokeFunction('convertToInteractive',\n",
              "                                                     [key], {});\n",
              "          if (!dataTable) return;\n",
              "\n",
              "          const docLinkHtml = 'Like what you see? Visit the ' +\n",
              "            '<a target=\"_blank\" href=https://colab.research.google.com/notebooks/data_table.ipynb>data table notebook</a>'\n",
              "            + ' to learn more about interactive tables.';\n",
              "          element.innerHTML = '';\n",
              "          dataTable['output_type'] = 'display_data';\n",
              "          await google.colab.output.renderOutput(dataTable, element);\n",
              "          const docLink = document.createElement('div');\n",
              "          docLink.innerHTML = docLinkHtml;\n",
              "          element.appendChild(docLink);\n",
              "        }\n",
              "      </script>\n",
              "    </div>\n",
              "  </div>\n",
              "  "
            ]
          },
          "metadata": {},
          "execution_count": 300
        }
      ],
      "source": [
        "dataFrame.head()"
      ]
    },
    {
      "cell_type": "code",
      "execution_count": 344,
      "metadata": {
        "id": "e8tUYM37NCVr"
      },
      "outputs": [],
      "source": [
        "dataFrame = dataFrame.drop(\"transmission\",axis=1)\n",
        "\n"
      ]
    },
    {
      "cell_type": "code",
      "execution_count": 302,
      "metadata": {
        "id": "J7nhnb0xNJB-"
      },
      "outputs": [],
      "source": [
        "y = dataFrame[\"price\"].values\n",
        "x = dataFrame.drop(\"price\",axis=1).values"
      ]
    },
    {
      "cell_type": "code",
      "execution_count": 303,
      "metadata": {
        "colab": {
          "base_uri": "https://localhost:8080/"
        },
        "id": "z1pM1kPSWJtp",
        "outputId": "9a33523b-eaa4-4fe7-f0c2-71f4ff49a970"
      },
      "outputs": [
        {
          "output_type": "execute_result",
          "data": {
            "text/plain": [
              "array([65990, 65990, 65980, ...,  1490,  1350,   650])"
            ]
          },
          "metadata": {},
          "execution_count": 303
        }
      ],
      "source": [
        "y"
      ]
    },
    {
      "cell_type": "code",
      "execution_count": 304,
      "metadata": {
        "colab": {
          "base_uri": "https://localhost:8080/"
        },
        "id": "d0sxNNncb2iZ",
        "outputId": "6f6f85f8-ca69-48c7-f50a-ad4238d31318"
      },
      "outputs": [
        {
          "output_type": "execute_result",
          "data": {
            "text/plain": [
              "array([[2.01900e+03, 5.07600e+03, 1.50000e+02, 3.04000e+01, 3.00000e+00],\n",
              "       [2.02000e+03, 9.99000e+02, 1.45000e+02, 2.80000e+01, 4.00000e+00],\n",
              "       [2.02000e+03, 3.99900e+03, 1.45000e+02, 2.80000e+01, 4.00000e+00],\n",
              "       ...,\n",
              "       [2.00000e+03, 8.70000e+04, 2.65000e+02, 2.72000e+01, 3.20000e+00],\n",
              "       [2.01000e+03, 1.16126e+05, 1.45000e+02, 5.43000e+01, 2.00000e+00],\n",
              "       [2.00300e+03, 1.09090e+05, 2.35000e+02, 4.00000e+01, 1.40000e+00]])"
            ]
          },
          "metadata": {},
          "execution_count": 304
        }
      ],
      "source": [
        "x"
      ]
    },
    {
      "cell_type": "code",
      "execution_count": 305,
      "metadata": {
        "id": "ENd0rO1QXSDb"
      },
      "outputs": [],
      "source": [
        "from sklearn.model_selection import train_test_split\n"
      ]
    },
    {
      "cell_type": "code",
      "execution_count": 306,
      "metadata": {
        "id": "DlLONdvbXSZa"
      },
      "outputs": [],
      "source": [
        "x_train, x_test, y_train, y_test = train_test_split(x,y,test_size=0.3,random_state=10)\n"
      ]
    },
    {
      "cell_type": "code",
      "execution_count": 307,
      "metadata": {
        "colab": {
          "base_uri": "https://localhost:8080/"
        },
        "id": "9AMXRexAXTpl",
        "outputId": "1b2ec625-5c2a-4a78-a66b-e32500ff8dc4"
      },
      "outputs": [
        {
          "output_type": "execute_result",
          "data": {
            "text/plain": [
              "9090"
            ]
          },
          "metadata": {},
          "execution_count": 307
        }
      ],
      "source": [
        "len(x_train)"
      ]
    },
    {
      "cell_type": "code",
      "execution_count": 308,
      "metadata": {
        "colab": {
          "base_uri": "https://localhost:8080/"
        },
        "id": "BoZLPhzZXcqj",
        "outputId": "13a8591c-38ff-4215-a9b7-b91c074c7e6d"
      },
      "outputs": [
        {
          "output_type": "execute_result",
          "data": {
            "text/plain": [
              "3897"
            ]
          },
          "metadata": {},
          "execution_count": 308
        }
      ],
      "source": [
        "len(x_test)"
      ]
    },
    {
      "cell_type": "code",
      "execution_count": 309,
      "metadata": {
        "id": "DJtSa6YbXefS"
      },
      "outputs": [],
      "source": [
        "from sklearn.preprocessing import StandardScaler\n"
      ]
    },
    {
      "cell_type": "code",
      "execution_count": 310,
      "metadata": {
        "id": "3K1CIH6WXibw"
      },
      "outputs": [],
      "source": [
        "scaler = StandardScaler()\n"
      ]
    },
    {
      "cell_type": "code",
      "execution_count": 321,
      "metadata": {
        "id": "iNCmHdOrXlDE"
      },
      "outputs": [],
      "source": [
        "x_train = scaler.fit_transform(x_train)"
      ]
    },
    {
      "cell_type": "code",
      "execution_count": 320,
      "metadata": {
        "id": "dPFIw8J6XnTs"
      },
      "outputs": [],
      "source": [
        "x_test = scaler.fit_transform(x_test)"
      ]
    },
    {
      "cell_type": "code",
      "execution_count": 312,
      "metadata": {
        "id": "geSi0oADaC9k"
      },
      "outputs": [],
      "source": [
        "from tensorflow.keras.models import Sequential\n",
        "from tensorflow.keras.layers import Dense"
      ]
    },
    {
      "cell_type": "code",
      "execution_count": 313,
      "metadata": {
        "colab": {
          "base_uri": "https://localhost:8080/"
        },
        "id": "xHrAyHOxaGsu",
        "outputId": "f61abb4a-6971-42a4-b5e2-aa39a8066cd6"
      },
      "outputs": [
        {
          "output_type": "execute_result",
          "data": {
            "text/plain": [
              "(9090, 5)"
            ]
          },
          "metadata": {},
          "execution_count": 313
        }
      ],
      "source": [
        "x_train.shape\n"
      ]
    },
    {
      "cell_type": "code",
      "execution_count": 322,
      "metadata": {
        "id": "Ym_sjUkraIf3"
      },
      "outputs": [],
      "source": [
        "model = Sequential()\n",
        "model.add(Dense(12,activation=\"relu\"))\n",
        "model.add(Dense(12,activation=\"relu\"))\n",
        "model.add(Dense(12,activation=\"relu\"))\n",
        "model.add(Dense(12,activation=\"relu\"))\n",
        "\n",
        "model.add(Dense(1))\n",
        "\n",
        "model.compile(optimizer=\"adam\",loss=\"mse\")"
      ]
    },
    {
      "cell_type": "code",
      "source": [
        "model.fit(x=x_train,y =y_train,validation_data=(x_test,y_test),batch_size=250,epochs=300)"
      ],
      "metadata": {
        "colab": {
          "base_uri": "https://localhost:8080/"
        },
        "id": "3RPlJp3ijVcg",
        "outputId": "91f696a5-0477-49e6-93c4-b516d323adf4"
      },
      "execution_count": 323,
      "outputs": [
        {
          "output_type": "stream",
          "name": "stdout",
          "text": [
            "Epoch 1/300\n",
            "37/37 [==============================] - 2s 10ms/step - loss: 672140992.0000 - val_loss: 688094592.0000\n",
            "Epoch 2/300\n",
            "37/37 [==============================] - 0s 5ms/step - loss: 672105728.0000 - val_loss: 688031360.0000\n",
            "Epoch 3/300\n",
            "37/37 [==============================] - 0s 4ms/step - loss: 671967872.0000 - val_loss: 687764544.0000\n",
            "Epoch 4/300\n",
            "37/37 [==============================] - 0s 4ms/step - loss: 671413632.0000 - val_loss: 686742400.0000\n",
            "Epoch 5/300\n",
            "37/37 [==============================] - 0s 5ms/step - loss: 669451392.0000 - val_loss: 683418816.0000\n",
            "Epoch 6/300\n",
            "37/37 [==============================] - 0s 4ms/step - loss: 663846272.0000 - val_loss: 674777664.0000\n",
            "Epoch 7/300\n",
            "37/37 [==============================] - 0s 5ms/step - loss: 650582144.0000 - val_loss: 655826816.0000\n",
            "Epoch 8/300\n",
            "37/37 [==============================] - 0s 4ms/step - loss: 623763712.0000 - val_loss: 619827520.0000\n",
            "Epoch 9/300\n",
            "37/37 [==============================] - 0s 4ms/step - loss: 575893120.0000 - val_loss: 559575168.0000\n",
            "Epoch 10/300\n",
            "37/37 [==============================] - 0s 4ms/step - loss: 500870496.0000 - val_loss: 470711296.0000\n",
            "Epoch 11/300\n",
            "37/37 [==============================] - 0s 5ms/step - loss: 398620448.0000 - val_loss: 357198080.0000\n",
            "Epoch 12/300\n",
            "37/37 [==============================] - 0s 4ms/step - loss: 280862816.0000 - val_loss: 239981376.0000\n",
            "Epoch 13/300\n",
            "37/37 [==============================] - 0s 4ms/step - loss: 174185120.0000 - val_loss: 146177728.0000\n",
            "Epoch 14/300\n",
            "37/37 [==============================] - 0s 4ms/step - loss: 104861008.0000 - val_loss: 96042912.0000\n",
            "Epoch 15/300\n",
            "37/37 [==============================] - 0s 3ms/step - loss: 76476968.0000 - val_loss: 78081720.0000\n",
            "Epoch 16/300\n",
            "37/37 [==============================] - 0s 3ms/step - loss: 67946864.0000 - val_loss: 71377744.0000\n",
            "Epoch 17/300\n",
            "37/37 [==============================] - 0s 3ms/step - loss: 64164252.0000 - val_loss: 67619392.0000\n",
            "Epoch 18/300\n",
            "37/37 [==============================] - 0s 6ms/step - loss: 61340320.0000 - val_loss: 64628036.0000\n",
            "Epoch 19/300\n",
            "37/37 [==============================] - 0s 6ms/step - loss: 58995948.0000 - val_loss: 62130912.0000\n",
            "Epoch 20/300\n",
            "37/37 [==============================] - 0s 6ms/step - loss: 56884284.0000 - val_loss: 60035260.0000\n",
            "Epoch 21/300\n",
            "37/37 [==============================] - 0s 6ms/step - loss: 55018600.0000 - val_loss: 57851156.0000\n",
            "Epoch 22/300\n",
            "37/37 [==============================] - 0s 6ms/step - loss: 53274072.0000 - val_loss: 55993516.0000\n",
            "Epoch 23/300\n",
            "37/37 [==============================] - 0s 7ms/step - loss: 51651720.0000 - val_loss: 54238028.0000\n",
            "Epoch 24/300\n",
            "37/37 [==============================] - 0s 5ms/step - loss: 50101376.0000 - val_loss: 52615812.0000\n",
            "Epoch 25/300\n",
            "37/37 [==============================] - 0s 6ms/step - loss: 48627780.0000 - val_loss: 51016384.0000\n",
            "Epoch 26/300\n",
            "37/37 [==============================] - 0s 5ms/step - loss: 47188580.0000 - val_loss: 49421808.0000\n",
            "Epoch 27/300\n",
            "37/37 [==============================] - 0s 6ms/step - loss: 45800244.0000 - val_loss: 47952024.0000\n",
            "Epoch 28/300\n",
            "37/37 [==============================] - 0s 7ms/step - loss: 44433848.0000 - val_loss: 46521848.0000\n",
            "Epoch 29/300\n",
            "37/37 [==============================] - 0s 6ms/step - loss: 43125964.0000 - val_loss: 45030340.0000\n",
            "Epoch 30/300\n",
            "37/37 [==============================] - 0s 4ms/step - loss: 41820344.0000 - val_loss: 43833172.0000\n",
            "Epoch 31/300\n",
            "37/37 [==============================] - 0s 3ms/step - loss: 40573380.0000 - val_loss: 42428320.0000\n",
            "Epoch 32/300\n",
            "37/37 [==============================] - 0s 4ms/step - loss: 39362756.0000 - val_loss: 41126896.0000\n",
            "Epoch 33/300\n",
            "37/37 [==============================] - 0s 5ms/step - loss: 38179708.0000 - val_loss: 39857324.0000\n",
            "Epoch 34/300\n",
            "37/37 [==============================] - 0s 4ms/step - loss: 37011732.0000 - val_loss: 38667848.0000\n",
            "Epoch 35/300\n",
            "37/37 [==============================] - 0s 4ms/step - loss: 35911192.0000 - val_loss: 37469824.0000\n",
            "Epoch 36/300\n",
            "37/37 [==============================] - 0s 5ms/step - loss: 34826612.0000 - val_loss: 36374136.0000\n",
            "Epoch 37/300\n",
            "37/37 [==============================] - 0s 4ms/step - loss: 33794232.0000 - val_loss: 35339276.0000\n",
            "Epoch 38/300\n",
            "37/37 [==============================] - 0s 4ms/step - loss: 32840728.0000 - val_loss: 34376024.0000\n",
            "Epoch 39/300\n",
            "37/37 [==============================] - 0s 4ms/step - loss: 31904274.0000 - val_loss: 33357550.0000\n",
            "Epoch 40/300\n",
            "37/37 [==============================] - 0s 5ms/step - loss: 30995752.0000 - val_loss: 32536060.0000\n",
            "Epoch 41/300\n",
            "37/37 [==============================] - 0s 4ms/step - loss: 30179854.0000 - val_loss: 31702034.0000\n",
            "Epoch 42/300\n",
            "37/37 [==============================] - 0s 5ms/step - loss: 29449610.0000 - val_loss: 30941212.0000\n",
            "Epoch 43/300\n",
            "37/37 [==============================] - 0s 5ms/step - loss: 28709270.0000 - val_loss: 30182522.0000\n",
            "Epoch 44/300\n",
            "37/37 [==============================] - 0s 5ms/step - loss: 28050180.0000 - val_loss: 29526198.0000\n",
            "Epoch 45/300\n",
            "37/37 [==============================] - 0s 4ms/step - loss: 27453198.0000 - val_loss: 28853672.0000\n",
            "Epoch 46/300\n",
            "37/37 [==============================] - 0s 4ms/step - loss: 26899866.0000 - val_loss: 28298588.0000\n",
            "Epoch 47/300\n",
            "37/37 [==============================] - 0s 4ms/step - loss: 26399270.0000 - val_loss: 27724124.0000\n",
            "Epoch 48/300\n",
            "37/37 [==============================] - 0s 4ms/step - loss: 25890286.0000 - val_loss: 27266016.0000\n",
            "Epoch 49/300\n",
            "37/37 [==============================] - 0s 4ms/step - loss: 25431116.0000 - val_loss: 26757790.0000\n",
            "Epoch 50/300\n",
            "37/37 [==============================] - 0s 5ms/step - loss: 25013908.0000 - val_loss: 26316378.0000\n",
            "Epoch 51/300\n",
            "37/37 [==============================] - 0s 5ms/step - loss: 24626148.0000 - val_loss: 25945146.0000\n",
            "Epoch 52/300\n",
            "37/37 [==============================] - 0s 5ms/step - loss: 24235068.0000 - val_loss: 25532626.0000\n",
            "Epoch 53/300\n",
            "37/37 [==============================] - 0s 4ms/step - loss: 23881536.0000 - val_loss: 25168902.0000\n",
            "Epoch 54/300\n",
            "37/37 [==============================] - 0s 4ms/step - loss: 23551972.0000 - val_loss: 24865668.0000\n",
            "Epoch 55/300\n",
            "37/37 [==============================] - 0s 4ms/step - loss: 23267684.0000 - val_loss: 24529288.0000\n",
            "Epoch 56/300\n",
            "37/37 [==============================] - 0s 5ms/step - loss: 22991582.0000 - val_loss: 24301528.0000\n",
            "Epoch 57/300\n",
            "37/37 [==============================] - 0s 5ms/step - loss: 22733220.0000 - val_loss: 23998658.0000\n",
            "Epoch 58/300\n",
            "37/37 [==============================] - 0s 5ms/step - loss: 22497168.0000 - val_loss: 23812446.0000\n",
            "Epoch 59/300\n",
            "37/37 [==============================] - 0s 5ms/step - loss: 22284324.0000 - val_loss: 23567752.0000\n",
            "Epoch 60/300\n",
            "37/37 [==============================] - 0s 5ms/step - loss: 22098210.0000 - val_loss: 23372546.0000\n",
            "Epoch 61/300\n",
            "37/37 [==============================] - 0s 5ms/step - loss: 21914364.0000 - val_loss: 23240956.0000\n",
            "Epoch 62/300\n",
            "37/37 [==============================] - 0s 4ms/step - loss: 21750020.0000 - val_loss: 23030264.0000\n",
            "Epoch 63/300\n",
            "37/37 [==============================] - 0s 4ms/step - loss: 21600276.0000 - val_loss: 22943386.0000\n",
            "Epoch 64/300\n",
            "37/37 [==============================] - 0s 4ms/step - loss: 21466698.0000 - val_loss: 22785946.0000\n",
            "Epoch 65/300\n",
            "37/37 [==============================] - 0s 3ms/step - loss: 21342446.0000 - val_loss: 22625352.0000\n",
            "Epoch 66/300\n",
            "37/37 [==============================] - 0s 5ms/step - loss: 21229606.0000 - val_loss: 22535720.0000\n",
            "Epoch 67/300\n",
            "37/37 [==============================] - 0s 4ms/step - loss: 21132972.0000 - val_loss: 22436574.0000\n",
            "Epoch 68/300\n",
            "37/37 [==============================] - 0s 5ms/step - loss: 21032044.0000 - val_loss: 22303672.0000\n",
            "Epoch 69/300\n",
            "37/37 [==============================] - 0s 5ms/step - loss: 20947596.0000 - val_loss: 22253848.0000\n",
            "Epoch 70/300\n",
            "37/37 [==============================] - 0s 5ms/step - loss: 20873510.0000 - val_loss: 22208372.0000\n",
            "Epoch 71/300\n",
            "37/37 [==============================] - 0s 9ms/step - loss: 20804760.0000 - val_loss: 22108160.0000\n",
            "Epoch 72/300\n",
            "37/37 [==============================] - 1s 16ms/step - loss: 20736172.0000 - val_loss: 21986574.0000\n",
            "Epoch 73/300\n",
            "37/37 [==============================] - 0s 10ms/step - loss: 20689890.0000 - val_loss: 21953624.0000\n",
            "Epoch 74/300\n",
            "37/37 [==============================] - 0s 4ms/step - loss: 20616634.0000 - val_loss: 21894680.0000\n",
            "Epoch 75/300\n",
            "37/37 [==============================] - 0s 5ms/step - loss: 20554510.0000 - val_loss: 21826344.0000\n",
            "Epoch 76/300\n",
            "37/37 [==============================] - 0s 4ms/step - loss: 20506800.0000 - val_loss: 21875458.0000\n",
            "Epoch 77/300\n",
            "37/37 [==============================] - 0s 5ms/step - loss: 20458318.0000 - val_loss: 21673434.0000\n",
            "Epoch 78/300\n",
            "37/37 [==============================] - 0s 5ms/step - loss: 20396818.0000 - val_loss: 21685086.0000\n",
            "Epoch 79/300\n",
            "37/37 [==============================] - 0s 4ms/step - loss: 20346696.0000 - val_loss: 21670368.0000\n",
            "Epoch 80/300\n",
            "37/37 [==============================] - 0s 5ms/step - loss: 20319928.0000 - val_loss: 21636706.0000\n",
            "Epoch 81/300\n",
            "37/37 [==============================] - 0s 4ms/step - loss: 20264890.0000 - val_loss: 21489432.0000\n",
            "Epoch 82/300\n",
            "37/37 [==============================] - 0s 4ms/step - loss: 20229818.0000 - val_loss: 21442258.0000\n",
            "Epoch 83/300\n",
            "37/37 [==============================] - 0s 5ms/step - loss: 20191594.0000 - val_loss: 21467502.0000\n",
            "Epoch 84/300\n",
            "37/37 [==============================] - 0s 5ms/step - loss: 20152140.0000 - val_loss: 21441770.0000\n",
            "Epoch 85/300\n",
            "37/37 [==============================] - 0s 7ms/step - loss: 20125136.0000 - val_loss: 21403158.0000\n",
            "Epoch 86/300\n",
            "37/37 [==============================] - 0s 7ms/step - loss: 20096628.0000 - val_loss: 21287728.0000\n",
            "Epoch 87/300\n",
            "37/37 [==============================] - 0s 6ms/step - loss: 20065798.0000 - val_loss: 21309734.0000\n",
            "Epoch 88/300\n",
            "37/37 [==============================] - 0s 5ms/step - loss: 20034540.0000 - val_loss: 21242918.0000\n",
            "Epoch 89/300\n",
            "37/37 [==============================] - 0s 6ms/step - loss: 20014414.0000 - val_loss: 21327534.0000\n",
            "Epoch 90/300\n",
            "37/37 [==============================] - 0s 6ms/step - loss: 19972270.0000 - val_loss: 21192584.0000\n",
            "Epoch 91/300\n",
            "37/37 [==============================] - 0s 6ms/step - loss: 19970094.0000 - val_loss: 21204362.0000\n",
            "Epoch 92/300\n",
            "37/37 [==============================] - 0s 7ms/step - loss: 19936298.0000 - val_loss: 21152664.0000\n",
            "Epoch 93/300\n",
            "37/37 [==============================] - 0s 9ms/step - loss: 19914688.0000 - val_loss: 21119366.0000\n",
            "Epoch 94/300\n",
            "37/37 [==============================] - 0s 12ms/step - loss: 19888006.0000 - val_loss: 21184458.0000\n",
            "Epoch 95/300\n",
            "37/37 [==============================] - 0s 7ms/step - loss: 19866474.0000 - val_loss: 21089684.0000\n",
            "Epoch 96/300\n",
            "37/37 [==============================] - 0s 5ms/step - loss: 19843236.0000 - val_loss: 21109054.0000\n",
            "Epoch 97/300\n",
            "37/37 [==============================] - 0s 4ms/step - loss: 19823840.0000 - val_loss: 21019860.0000\n",
            "Epoch 98/300\n",
            "37/37 [==============================] - 0s 4ms/step - loss: 19831684.0000 - val_loss: 21063790.0000\n",
            "Epoch 99/300\n",
            "37/37 [==============================] - 0s 5ms/step - loss: 19781928.0000 - val_loss: 21064126.0000\n",
            "Epoch 100/300\n",
            "37/37 [==============================] - 0s 4ms/step - loss: 19754024.0000 - val_loss: 21020840.0000\n",
            "Epoch 101/300\n",
            "37/37 [==============================] - 0s 4ms/step - loss: 19740660.0000 - val_loss: 21016338.0000\n",
            "Epoch 102/300\n",
            "37/37 [==============================] - 0s 4ms/step - loss: 19719610.0000 - val_loss: 20972192.0000\n",
            "Epoch 103/300\n",
            "37/37 [==============================] - 0s 4ms/step - loss: 19699142.0000 - val_loss: 20915464.0000\n",
            "Epoch 104/300\n",
            "37/37 [==============================] - 0s 4ms/step - loss: 19688304.0000 - val_loss: 20844710.0000\n",
            "Epoch 105/300\n",
            "37/37 [==============================] - 0s 4ms/step - loss: 19661710.0000 - val_loss: 20868902.0000\n",
            "Epoch 106/300\n",
            "37/37 [==============================] - 0s 5ms/step - loss: 19645844.0000 - val_loss: 20967912.0000\n",
            "Epoch 107/300\n",
            "37/37 [==============================] - 0s 4ms/step - loss: 19652798.0000 - val_loss: 20849782.0000\n",
            "Epoch 108/300\n",
            "37/37 [==============================] - 0s 5ms/step - loss: 19606716.0000 - val_loss: 20796494.0000\n",
            "Epoch 109/300\n",
            "37/37 [==============================] - 0s 4ms/step - loss: 19581998.0000 - val_loss: 20779552.0000\n",
            "Epoch 110/300\n",
            "37/37 [==============================] - 0s 4ms/step - loss: 19578034.0000 - val_loss: 20783754.0000\n",
            "Epoch 111/300\n",
            "37/37 [==============================] - 0s 4ms/step - loss: 19545828.0000 - val_loss: 20738052.0000\n",
            "Epoch 112/300\n",
            "37/37 [==============================] - 0s 4ms/step - loss: 19540728.0000 - val_loss: 20769028.0000\n",
            "Epoch 113/300\n",
            "37/37 [==============================] - 0s 5ms/step - loss: 19497544.0000 - val_loss: 20799686.0000\n",
            "Epoch 114/300\n",
            "37/37 [==============================] - 0s 4ms/step - loss: 19493092.0000 - val_loss: 20622734.0000\n",
            "Epoch 115/300\n",
            "37/37 [==============================] - 0s 5ms/step - loss: 19461434.0000 - val_loss: 20757144.0000\n",
            "Epoch 116/300\n",
            "37/37 [==============================] - 0s 5ms/step - loss: 19446672.0000 - val_loss: 20734484.0000\n",
            "Epoch 117/300\n",
            "37/37 [==============================] - 0s 5ms/step - loss: 19434556.0000 - val_loss: 20785658.0000\n",
            "Epoch 118/300\n",
            "37/37 [==============================] - 0s 5ms/step - loss: 19409542.0000 - val_loss: 20611560.0000\n",
            "Epoch 119/300\n",
            "37/37 [==============================] - 0s 5ms/step - loss: 19392192.0000 - val_loss: 20581006.0000\n",
            "Epoch 120/300\n",
            "37/37 [==============================] - 0s 4ms/step - loss: 19358998.0000 - val_loss: 20599282.0000\n",
            "Epoch 121/300\n",
            "37/37 [==============================] - 0s 4ms/step - loss: 19357112.0000 - val_loss: 20596820.0000\n",
            "Epoch 122/300\n",
            "37/37 [==============================] - 0s 5ms/step - loss: 19324084.0000 - val_loss: 20590432.0000\n",
            "Epoch 123/300\n",
            "37/37 [==============================] - 0s 4ms/step - loss: 19301172.0000 - val_loss: 20568628.0000\n",
            "Epoch 124/300\n",
            "37/37 [==============================] - 0s 5ms/step - loss: 19288482.0000 - val_loss: 20500912.0000\n",
            "Epoch 125/300\n",
            "37/37 [==============================] - 0s 4ms/step - loss: 19254692.0000 - val_loss: 20519894.0000\n",
            "Epoch 126/300\n",
            "37/37 [==============================] - 0s 5ms/step - loss: 19245070.0000 - val_loss: 20557306.0000\n",
            "Epoch 127/300\n",
            "37/37 [==============================] - 0s 4ms/step - loss: 19236540.0000 - val_loss: 20507762.0000\n",
            "Epoch 128/300\n",
            "37/37 [==============================] - 0s 4ms/step - loss: 19195850.0000 - val_loss: 20512140.0000\n",
            "Epoch 129/300\n",
            "37/37 [==============================] - 0s 4ms/step - loss: 19177340.0000 - val_loss: 20530624.0000\n",
            "Epoch 130/300\n",
            "37/37 [==============================] - 0s 5ms/step - loss: 19151826.0000 - val_loss: 20417016.0000\n",
            "Epoch 131/300\n",
            "37/37 [==============================] - 0s 4ms/step - loss: 19136986.0000 - val_loss: 20354278.0000\n",
            "Epoch 132/300\n",
            "37/37 [==============================] - 0s 4ms/step - loss: 19121542.0000 - val_loss: 20330270.0000\n",
            "Epoch 133/300\n",
            "37/37 [==============================] - 0s 4ms/step - loss: 19103022.0000 - val_loss: 20353670.0000\n",
            "Epoch 134/300\n",
            "37/37 [==============================] - 0s 3ms/step - loss: 19079762.0000 - val_loss: 20239428.0000\n",
            "Epoch 135/300\n",
            "37/37 [==============================] - 0s 3ms/step - loss: 19044334.0000 - val_loss: 20410526.0000\n",
            "Epoch 136/300\n",
            "37/37 [==============================] - 0s 4ms/step - loss: 19042898.0000 - val_loss: 20201604.0000\n",
            "Epoch 137/300\n",
            "37/37 [==============================] - 0s 5ms/step - loss: 19014944.0000 - val_loss: 20403468.0000\n",
            "Epoch 138/300\n",
            "37/37 [==============================] - 0s 5ms/step - loss: 19014240.0000 - val_loss: 20452252.0000\n",
            "Epoch 139/300\n",
            "37/37 [==============================] - 0s 4ms/step - loss: 18985672.0000 - val_loss: 20288042.0000\n",
            "Epoch 140/300\n",
            "37/37 [==============================] - 0s 6ms/step - loss: 18948418.0000 - val_loss: 20195432.0000\n",
            "Epoch 141/300\n",
            "37/37 [==============================] - 0s 5ms/step - loss: 18942450.0000 - val_loss: 20094556.0000\n",
            "Epoch 142/300\n",
            "37/37 [==============================] - 0s 6ms/step - loss: 18921522.0000 - val_loss: 20252612.0000\n",
            "Epoch 143/300\n",
            "37/37 [==============================] - 0s 5ms/step - loss: 18890922.0000 - val_loss: 20196490.0000\n",
            "Epoch 144/300\n",
            "37/37 [==============================] - 0s 5ms/step - loss: 18868170.0000 - val_loss: 20153100.0000\n",
            "Epoch 145/300\n",
            "37/37 [==============================] - 0s 4ms/step - loss: 18856962.0000 - val_loss: 20176718.0000\n",
            "Epoch 146/300\n",
            "37/37 [==============================] - 0s 4ms/step - loss: 18833460.0000 - val_loss: 20044562.0000\n",
            "Epoch 147/300\n",
            "37/37 [==============================] - 0s 4ms/step - loss: 18821534.0000 - val_loss: 20277460.0000\n",
            "Epoch 148/300\n",
            "37/37 [==============================] - 0s 4ms/step - loss: 18821030.0000 - val_loss: 20132118.0000\n",
            "Epoch 149/300\n",
            "37/37 [==============================] - 0s 4ms/step - loss: 18780794.0000 - val_loss: 20197244.0000\n",
            "Epoch 150/300\n",
            "37/37 [==============================] - 0s 4ms/step - loss: 18764918.0000 - val_loss: 20112636.0000\n",
            "Epoch 151/300\n",
            "37/37 [==============================] - 0s 4ms/step - loss: 18765368.0000 - val_loss: 20180448.0000\n",
            "Epoch 152/300\n",
            "37/37 [==============================] - 0s 4ms/step - loss: 18748000.0000 - val_loss: 20196672.0000\n",
            "Epoch 153/300\n",
            "37/37 [==============================] - 0s 5ms/step - loss: 18729260.0000 - val_loss: 20076838.0000\n",
            "Epoch 154/300\n",
            "37/37 [==============================] - 0s 5ms/step - loss: 18683352.0000 - val_loss: 19900884.0000\n",
            "Epoch 155/300\n",
            "37/37 [==============================] - 0s 5ms/step - loss: 18664578.0000 - val_loss: 19966156.0000\n",
            "Epoch 156/300\n",
            "37/37 [==============================] - 0s 5ms/step - loss: 18645530.0000 - val_loss: 20073476.0000\n",
            "Epoch 157/300\n",
            "37/37 [==============================] - 0s 7ms/step - loss: 18639300.0000 - val_loss: 19858946.0000\n",
            "Epoch 158/300\n",
            "37/37 [==============================] - 0s 8ms/step - loss: 18606920.0000 - val_loss: 19861054.0000\n",
            "Epoch 159/300\n",
            "37/37 [==============================] - 0s 7ms/step - loss: 18578414.0000 - val_loss: 20014618.0000\n",
            "Epoch 160/300\n",
            "37/37 [==============================] - 0s 7ms/step - loss: 18532704.0000 - val_loss: 19764728.0000\n",
            "Epoch 161/300\n",
            "37/37 [==============================] - 0s 7ms/step - loss: 18400094.0000 - val_loss: 19509720.0000\n",
            "Epoch 162/300\n",
            "37/37 [==============================] - 0s 8ms/step - loss: 18339632.0000 - val_loss: 19538040.0000\n",
            "Epoch 163/300\n",
            "37/37 [==============================] - 0s 8ms/step - loss: 18267440.0000 - val_loss: 19490786.0000\n",
            "Epoch 164/300\n",
            "37/37 [==============================] - 0s 8ms/step - loss: 18227922.0000 - val_loss: 19500382.0000\n",
            "Epoch 165/300\n",
            "37/37 [==============================] - 0s 8ms/step - loss: 18164008.0000 - val_loss: 19654756.0000\n",
            "Epoch 166/300\n",
            "37/37 [==============================] - 0s 7ms/step - loss: 18133040.0000 - val_loss: 19370790.0000\n",
            "Epoch 167/300\n",
            "37/37 [==============================] - 0s 7ms/step - loss: 18081410.0000 - val_loss: 19450110.0000\n",
            "Epoch 168/300\n",
            "37/37 [==============================] - 0s 8ms/step - loss: 18063170.0000 - val_loss: 19370358.0000\n",
            "Epoch 169/300\n",
            "37/37 [==============================] - 0s 7ms/step - loss: 18005680.0000 - val_loss: 19311728.0000\n",
            "Epoch 170/300\n",
            "37/37 [==============================] - 0s 7ms/step - loss: 17962840.0000 - val_loss: 19152892.0000\n",
            "Epoch 171/300\n",
            "37/37 [==============================] - 0s 7ms/step - loss: 17928284.0000 - val_loss: 19119340.0000\n",
            "Epoch 172/300\n",
            "37/37 [==============================] - 0s 7ms/step - loss: 17876760.0000 - val_loss: 19509390.0000\n",
            "Epoch 173/300\n",
            "37/37 [==============================] - 0s 9ms/step - loss: 17878086.0000 - val_loss: 19284250.0000\n",
            "Epoch 174/300\n",
            "37/37 [==============================] - 0s 5ms/step - loss: 17855226.0000 - val_loss: 19158486.0000\n",
            "Epoch 175/300\n",
            "37/37 [==============================] - 0s 4ms/step - loss: 17798252.0000 - val_loss: 19077222.0000\n",
            "Epoch 176/300\n",
            "37/37 [==============================] - 0s 3ms/step - loss: 17792170.0000 - val_loss: 19359690.0000\n",
            "Epoch 177/300\n",
            "37/37 [==============================] - 0s 4ms/step - loss: 17774148.0000 - val_loss: 19020560.0000\n",
            "Epoch 178/300\n",
            "37/37 [==============================] - 0s 5ms/step - loss: 17703972.0000 - val_loss: 18882800.0000\n",
            "Epoch 179/300\n",
            "37/37 [==============================] - 0s 5ms/step - loss: 17689630.0000 - val_loss: 18996754.0000\n",
            "Epoch 180/300\n",
            "37/37 [==============================] - 0s 4ms/step - loss: 17658512.0000 - val_loss: 19018772.0000\n",
            "Epoch 181/300\n",
            "37/37 [==============================] - 0s 5ms/step - loss: 17647130.0000 - val_loss: 18921528.0000\n",
            "Epoch 182/300\n",
            "37/37 [==============================] - 0s 4ms/step - loss: 17610500.0000 - val_loss: 18981724.0000\n",
            "Epoch 183/300\n",
            "37/37 [==============================] - 0s 3ms/step - loss: 17590314.0000 - val_loss: 19204706.0000\n",
            "Epoch 184/300\n",
            "37/37 [==============================] - 0s 4ms/step - loss: 17563436.0000 - val_loss: 18803466.0000\n",
            "Epoch 185/300\n",
            "37/37 [==============================] - 0s 4ms/step - loss: 17562968.0000 - val_loss: 18824970.0000\n",
            "Epoch 186/300\n",
            "37/37 [==============================] - 0s 4ms/step - loss: 17526234.0000 - val_loss: 18841906.0000\n",
            "Epoch 187/300\n",
            "37/37 [==============================] - 0s 4ms/step - loss: 17524114.0000 - val_loss: 18878336.0000\n",
            "Epoch 188/300\n",
            "37/37 [==============================] - 0s 4ms/step - loss: 17502874.0000 - val_loss: 18758174.0000\n",
            "Epoch 189/300\n",
            "37/37 [==============================] - 0s 4ms/step - loss: 17461642.0000 - val_loss: 18822004.0000\n",
            "Epoch 190/300\n",
            "37/37 [==============================] - 0s 3ms/step - loss: 17466640.0000 - val_loss: 18816614.0000\n",
            "Epoch 191/300\n",
            "37/37 [==============================] - 0s 4ms/step - loss: 17458508.0000 - val_loss: 18698216.0000\n",
            "Epoch 192/300\n",
            "37/37 [==============================] - 0s 4ms/step - loss: 17427736.0000 - val_loss: 18618712.0000\n",
            "Epoch 193/300\n",
            "37/37 [==============================] - 0s 5ms/step - loss: 17428198.0000 - val_loss: 18726762.0000\n",
            "Epoch 194/300\n",
            "37/37 [==============================] - 0s 5ms/step - loss: 17388560.0000 - val_loss: 18692556.0000\n",
            "Epoch 195/300\n",
            "37/37 [==============================] - 0s 5ms/step - loss: 17365750.0000 - val_loss: 18511788.0000\n",
            "Epoch 196/300\n",
            "37/37 [==============================] - 0s 4ms/step - loss: 17394144.0000 - val_loss: 18604294.0000\n",
            "Epoch 197/300\n",
            "37/37 [==============================] - 0s 5ms/step - loss: 17331480.0000 - val_loss: 18620582.0000\n",
            "Epoch 198/300\n",
            "37/37 [==============================] - 0s 5ms/step - loss: 17320794.0000 - val_loss: 18681262.0000\n",
            "Epoch 199/300\n",
            "37/37 [==============================] - 0s 5ms/step - loss: 17303168.0000 - val_loss: 18589886.0000\n",
            "Epoch 200/300\n",
            "37/37 [==============================] - 0s 4ms/step - loss: 17290232.0000 - val_loss: 18762630.0000\n",
            "Epoch 201/300\n",
            "37/37 [==============================] - 0s 4ms/step - loss: 17293798.0000 - val_loss: 18661876.0000\n",
            "Epoch 202/300\n",
            "37/37 [==============================] - 0s 4ms/step - loss: 17289402.0000 - val_loss: 18647766.0000\n",
            "Epoch 203/300\n",
            "37/37 [==============================] - 0s 4ms/step - loss: 17254726.0000 - val_loss: 18621450.0000\n",
            "Epoch 204/300\n",
            "37/37 [==============================] - 0s 5ms/step - loss: 17241376.0000 - val_loss: 18476022.0000\n",
            "Epoch 205/300\n",
            "37/37 [==============================] - 0s 4ms/step - loss: 17233064.0000 - val_loss: 18615286.0000\n",
            "Epoch 206/300\n",
            "37/37 [==============================] - 0s 5ms/step - loss: 17219612.0000 - val_loss: 18542164.0000\n",
            "Epoch 207/300\n",
            "37/37 [==============================] - 0s 4ms/step - loss: 17210972.0000 - val_loss: 18565550.0000\n",
            "Epoch 208/300\n",
            "37/37 [==============================] - 0s 4ms/step - loss: 17199004.0000 - val_loss: 18499200.0000\n",
            "Epoch 209/300\n",
            "37/37 [==============================] - 0s 4ms/step - loss: 17187680.0000 - val_loss: 18435200.0000\n",
            "Epoch 210/300\n",
            "37/37 [==============================] - 0s 4ms/step - loss: 17175224.0000 - val_loss: 18499558.0000\n",
            "Epoch 211/300\n",
            "37/37 [==============================] - 0s 5ms/step - loss: 17162756.0000 - val_loss: 18406798.0000\n",
            "Epoch 212/300\n",
            "37/37 [==============================] - 0s 4ms/step - loss: 17157644.0000 - val_loss: 18356978.0000\n",
            "Epoch 213/300\n",
            "37/37 [==============================] - 0s 4ms/step - loss: 17146650.0000 - val_loss: 18470672.0000\n",
            "Epoch 214/300\n",
            "37/37 [==============================] - 0s 4ms/step - loss: 17159066.0000 - val_loss: 18690580.0000\n",
            "Epoch 215/300\n",
            "37/37 [==============================] - 0s 5ms/step - loss: 17137352.0000 - val_loss: 18370334.0000\n",
            "Epoch 216/300\n",
            "37/37 [==============================] - 0s 4ms/step - loss: 17118952.0000 - val_loss: 18322080.0000\n",
            "Epoch 217/300\n",
            "37/37 [==============================] - 0s 4ms/step - loss: 17109514.0000 - val_loss: 18358916.0000\n",
            "Epoch 218/300\n",
            "37/37 [==============================] - 0s 5ms/step - loss: 17112718.0000 - val_loss: 18335968.0000\n",
            "Epoch 219/300\n",
            "37/37 [==============================] - 0s 5ms/step - loss: 17108392.0000 - val_loss: 18397938.0000\n",
            "Epoch 220/300\n",
            "37/37 [==============================] - 0s 4ms/step - loss: 17085080.0000 - val_loss: 18389474.0000\n",
            "Epoch 221/300\n",
            "37/37 [==============================] - 0s 4ms/step - loss: 17064802.0000 - val_loss: 18358098.0000\n",
            "Epoch 222/300\n",
            "37/37 [==============================] - 0s 4ms/step - loss: 17061558.0000 - val_loss: 18310192.0000\n",
            "Epoch 223/300\n",
            "37/37 [==============================] - 0s 4ms/step - loss: 17057948.0000 - val_loss: 18323674.0000\n",
            "Epoch 224/300\n",
            "37/37 [==============================] - 0s 4ms/step - loss: 17034252.0000 - val_loss: 18416176.0000\n",
            "Epoch 225/300\n",
            "37/37 [==============================] - 0s 5ms/step - loss: 17028032.0000 - val_loss: 18206178.0000\n",
            "Epoch 226/300\n",
            "37/37 [==============================] - 0s 5ms/step - loss: 17042720.0000 - val_loss: 18268968.0000\n",
            "Epoch 227/300\n",
            "37/37 [==============================] - 0s 5ms/step - loss: 17035624.0000 - val_loss: 18264474.0000\n",
            "Epoch 228/300\n",
            "37/37 [==============================] - 0s 4ms/step - loss: 17013696.0000 - val_loss: 18216074.0000\n",
            "Epoch 229/300\n",
            "37/37 [==============================] - 0s 4ms/step - loss: 16996074.0000 - val_loss: 18327076.0000\n",
            "Epoch 230/300\n",
            "37/37 [==============================] - 0s 4ms/step - loss: 17013206.0000 - val_loss: 18258126.0000\n",
            "Epoch 231/300\n",
            "37/37 [==============================] - 0s 5ms/step - loss: 16988370.0000 - val_loss: 18373384.0000\n",
            "Epoch 232/300\n",
            "37/37 [==============================] - 0s 4ms/step - loss: 16994760.0000 - val_loss: 18335260.0000\n",
            "Epoch 233/300\n",
            "37/37 [==============================] - 0s 4ms/step - loss: 16976412.0000 - val_loss: 18371898.0000\n",
            "Epoch 234/300\n",
            "37/37 [==============================] - 0s 4ms/step - loss: 16973944.0000 - val_loss: 18255548.0000\n",
            "Epoch 235/300\n",
            "37/37 [==============================] - 0s 4ms/step - loss: 16962386.0000 - val_loss: 18290154.0000\n",
            "Epoch 236/300\n",
            "37/37 [==============================] - 0s 6ms/step - loss: 16961482.0000 - val_loss: 18335266.0000\n",
            "Epoch 237/300\n",
            "37/37 [==============================] - 0s 8ms/step - loss: 16939658.0000 - val_loss: 18135680.0000\n",
            "Epoch 238/300\n",
            "37/37 [==============================] - 0s 6ms/step - loss: 16933784.0000 - val_loss: 18231516.0000\n",
            "Epoch 239/300\n",
            "37/37 [==============================] - 0s 6ms/step - loss: 16923724.0000 - val_loss: 18277624.0000\n",
            "Epoch 240/300\n",
            "37/37 [==============================] - 0s 6ms/step - loss: 16926474.0000 - val_loss: 18299888.0000\n",
            "Epoch 241/300\n",
            "37/37 [==============================] - 0s 7ms/step - loss: 16928166.0000 - val_loss: 18259706.0000\n",
            "Epoch 242/300\n",
            "37/37 [==============================] - 0s 6ms/step - loss: 16911720.0000 - val_loss: 18384112.0000\n",
            "Epoch 243/300\n",
            "37/37 [==============================] - 0s 6ms/step - loss: 16909342.0000 - val_loss: 18326798.0000\n",
            "Epoch 244/300\n",
            "37/37 [==============================] - 0s 5ms/step - loss: 16886348.0000 - val_loss: 18112992.0000\n",
            "Epoch 245/300\n",
            "37/37 [==============================] - 0s 6ms/step - loss: 16882284.0000 - val_loss: 18264998.0000\n",
            "Epoch 246/300\n",
            "37/37 [==============================] - 0s 7ms/step - loss: 16887392.0000 - val_loss: 18274402.0000\n",
            "Epoch 247/300\n",
            "37/37 [==============================] - 0s 6ms/step - loss: 16885474.0000 - val_loss: 18126926.0000\n",
            "Epoch 248/300\n",
            "37/37 [==============================] - 0s 4ms/step - loss: 16867468.0000 - val_loss: 18220740.0000\n",
            "Epoch 249/300\n",
            "37/37 [==============================] - 0s 4ms/step - loss: 16872646.0000 - val_loss: 18258760.0000\n",
            "Epoch 250/300\n",
            "37/37 [==============================] - 0s 5ms/step - loss: 16857616.0000 - val_loss: 18211282.0000\n",
            "Epoch 251/300\n",
            "37/37 [==============================] - 0s 5ms/step - loss: 16843932.0000 - val_loss: 18154378.0000\n",
            "Epoch 252/300\n",
            "37/37 [==============================] - 0s 4ms/step - loss: 16846106.0000 - val_loss: 17973800.0000\n",
            "Epoch 253/300\n",
            "37/37 [==============================] - 0s 4ms/step - loss: 16918110.0000 - val_loss: 17964076.0000\n",
            "Epoch 254/300\n",
            "37/37 [==============================] - 0s 4ms/step - loss: 16855020.0000 - val_loss: 17970688.0000\n",
            "Epoch 255/300\n",
            "37/37 [==============================] - 0s 5ms/step - loss: 16845284.0000 - val_loss: 18209154.0000\n",
            "Epoch 256/300\n",
            "37/37 [==============================] - 0s 4ms/step - loss: 16828032.0000 - val_loss: 18191016.0000\n",
            "Epoch 257/300\n",
            "37/37 [==============================] - 0s 4ms/step - loss: 16813116.0000 - val_loss: 18050468.0000\n",
            "Epoch 258/300\n",
            "37/37 [==============================] - 0s 5ms/step - loss: 16809348.0000 - val_loss: 18065846.0000\n",
            "Epoch 259/300\n",
            "37/37 [==============================] - 0s 4ms/step - loss: 16791824.0000 - val_loss: 17985316.0000\n",
            "Epoch 260/300\n",
            "37/37 [==============================] - 0s 5ms/step - loss: 16802294.0000 - val_loss: 18101324.0000\n",
            "Epoch 261/300\n",
            "37/37 [==============================] - 0s 5ms/step - loss: 16789596.0000 - val_loss: 18202972.0000\n",
            "Epoch 262/300\n",
            "37/37 [==============================] - 0s 4ms/step - loss: 16791730.0000 - val_loss: 18009512.0000\n",
            "Epoch 263/300\n",
            "37/37 [==============================] - 0s 4ms/step - loss: 16786794.0000 - val_loss: 18027976.0000\n",
            "Epoch 264/300\n",
            "37/37 [==============================] - 0s 4ms/step - loss: 16772355.0000 - val_loss: 18067114.0000\n",
            "Epoch 265/300\n",
            "37/37 [==============================] - 0s 4ms/step - loss: 16761780.0000 - val_loss: 17951484.0000\n",
            "Epoch 266/300\n",
            "37/37 [==============================] - 0s 4ms/step - loss: 16776524.0000 - val_loss: 18019664.0000\n",
            "Epoch 267/300\n",
            "37/37 [==============================] - 0s 4ms/step - loss: 16756676.0000 - val_loss: 17954036.0000\n",
            "Epoch 268/300\n",
            "37/37 [==============================] - 0s 4ms/step - loss: 16749695.0000 - val_loss: 18497168.0000\n",
            "Epoch 269/300\n",
            "37/37 [==============================] - 0s 4ms/step - loss: 16818258.0000 - val_loss: 18024188.0000\n",
            "Epoch 270/300\n",
            "37/37 [==============================] - 0s 4ms/step - loss: 16734421.0000 - val_loss: 17896544.0000\n",
            "Epoch 271/300\n",
            "37/37 [==============================] - 0s 4ms/step - loss: 16745665.0000 - val_loss: 18033354.0000\n",
            "Epoch 272/300\n",
            "37/37 [==============================] - 0s 4ms/step - loss: 16734886.0000 - val_loss: 17959590.0000\n",
            "Epoch 273/300\n",
            "37/37 [==============================] - 0s 4ms/step - loss: 16739080.0000 - val_loss: 17851146.0000\n",
            "Epoch 274/300\n",
            "37/37 [==============================] - 0s 5ms/step - loss: 16733486.0000 - val_loss: 17939290.0000\n",
            "Epoch 275/300\n",
            "37/37 [==============================] - 0s 4ms/step - loss: 16731126.0000 - val_loss: 18070924.0000\n",
            "Epoch 276/300\n",
            "37/37 [==============================] - 0s 4ms/step - loss: 16723951.0000 - val_loss: 18035972.0000\n",
            "Epoch 277/300\n",
            "37/37 [==============================] - 0s 5ms/step - loss: 16734479.0000 - val_loss: 17849148.0000\n",
            "Epoch 278/300\n",
            "37/37 [==============================] - 0s 5ms/step - loss: 16726256.0000 - val_loss: 17949838.0000\n",
            "Epoch 279/300\n",
            "37/37 [==============================] - 0s 4ms/step - loss: 16724171.0000 - val_loss: 17963402.0000\n",
            "Epoch 280/300\n",
            "37/37 [==============================] - 0s 4ms/step - loss: 16712648.0000 - val_loss: 17905188.0000\n",
            "Epoch 281/300\n",
            "37/37 [==============================] - 0s 4ms/step - loss: 16706637.0000 - val_loss: 17967678.0000\n",
            "Epoch 282/300\n",
            "37/37 [==============================] - 0s 4ms/step - loss: 16703513.0000 - val_loss: 17924304.0000\n",
            "Epoch 283/300\n",
            "37/37 [==============================] - 0s 4ms/step - loss: 16710431.0000 - val_loss: 18213280.0000\n",
            "Epoch 284/300\n",
            "37/37 [==============================] - 0s 4ms/step - loss: 16711857.0000 - val_loss: 18075594.0000\n",
            "Epoch 285/300\n",
            "37/37 [==============================] - 0s 4ms/step - loss: 16700856.0000 - val_loss: 18076730.0000\n",
            "Epoch 286/300\n",
            "37/37 [==============================] - 0s 4ms/step - loss: 16715658.0000 - val_loss: 17997694.0000\n",
            "Epoch 287/300\n",
            "37/37 [==============================] - 0s 5ms/step - loss: 16706293.0000 - val_loss: 17829680.0000\n",
            "Epoch 288/300\n",
            "37/37 [==============================] - 0s 5ms/step - loss: 16709135.0000 - val_loss: 17788990.0000\n",
            "Epoch 289/300\n",
            "37/37 [==============================] - 0s 4ms/step - loss: 16712718.0000 - val_loss: 18002642.0000\n",
            "Epoch 290/300\n",
            "37/37 [==============================] - 0s 4ms/step - loss: 16685732.0000 - val_loss: 17912802.0000\n",
            "Epoch 291/300\n",
            "37/37 [==============================] - 0s 4ms/step - loss: 16687084.0000 - val_loss: 17922468.0000\n",
            "Epoch 292/300\n",
            "37/37 [==============================] - 0s 5ms/step - loss: 16702767.0000 - val_loss: 18020256.0000\n",
            "Epoch 293/300\n",
            "37/37 [==============================] - 0s 5ms/step - loss: 16680520.0000 - val_loss: 17984606.0000\n",
            "Epoch 294/300\n",
            "37/37 [==============================] - 0s 4ms/step - loss: 16694658.0000 - val_loss: 17786830.0000\n",
            "Epoch 295/300\n",
            "37/37 [==============================] - 0s 4ms/step - loss: 16705213.0000 - val_loss: 17985358.0000\n",
            "Epoch 296/300\n",
            "37/37 [==============================] - 0s 4ms/step - loss: 16701226.0000 - val_loss: 17965426.0000\n",
            "Epoch 297/300\n",
            "37/37 [==============================] - 0s 4ms/step - loss: 16685893.0000 - val_loss: 17762536.0000\n",
            "Epoch 298/300\n",
            "37/37 [==============================] - 0s 5ms/step - loss: 16654183.0000 - val_loss: 18063222.0000\n",
            "Epoch 299/300\n",
            "37/37 [==============================] - 0s 4ms/step - loss: 16672737.0000 - val_loss: 18086822.0000\n",
            "Epoch 300/300\n",
            "37/37 [==============================] - 0s 5ms/step - loss: 16664408.0000 - val_loss: 17903590.0000\n"
          ]
        },
        {
          "output_type": "execute_result",
          "data": {
            "text/plain": [
              "<keras.callbacks.History at 0x7f7938977820>"
            ]
          },
          "metadata": {},
          "execution_count": 323
        }
      ]
    },
    {
      "cell_type": "code",
      "source": [
        "kayipveri = pd.DataFrame(model.history.history)"
      ],
      "metadata": {
        "id": "tFsCdU82kE5E"
      },
      "execution_count": 327,
      "outputs": []
    },
    {
      "cell_type": "code",
      "source": [
        "kayipveri.head()"
      ],
      "metadata": {
        "colab": {
          "base_uri": "https://localhost:8080/",
          "height": 206
        },
        "id": "kUaDvjl8kfEN",
        "outputId": "1cbbf61f-dc4e-485d-807f-d7f9b39eed41"
      },
      "execution_count": 328,
      "outputs": [
        {
          "output_type": "execute_result",
          "data": {
            "text/plain": [
              "          loss     val_loss\n",
              "0  672140992.0  688094592.0\n",
              "1  672105728.0  688031360.0\n",
              "2  671967872.0  687764544.0\n",
              "3  671413632.0  686742400.0\n",
              "4  669451392.0  683418816.0"
            ],
            "text/html": [
              "\n",
              "  <div id=\"df-43c292f8-e8b2-4ea1-b296-149c2ffa2d35\">\n",
              "    <div class=\"colab-df-container\">\n",
              "      <div>\n",
              "<style scoped>\n",
              "    .dataframe tbody tr th:only-of-type {\n",
              "        vertical-align: middle;\n",
              "    }\n",
              "\n",
              "    .dataframe tbody tr th {\n",
              "        vertical-align: top;\n",
              "    }\n",
              "\n",
              "    .dataframe thead th {\n",
              "        text-align: right;\n",
              "    }\n",
              "</style>\n",
              "<table border=\"1\" class=\"dataframe\">\n",
              "  <thead>\n",
              "    <tr style=\"text-align: right;\">\n",
              "      <th></th>\n",
              "      <th>loss</th>\n",
              "      <th>val_loss</th>\n",
              "    </tr>\n",
              "  </thead>\n",
              "  <tbody>\n",
              "    <tr>\n",
              "      <th>0</th>\n",
              "      <td>672140992.0</td>\n",
              "      <td>688094592.0</td>\n",
              "    </tr>\n",
              "    <tr>\n",
              "      <th>1</th>\n",
              "      <td>672105728.0</td>\n",
              "      <td>688031360.0</td>\n",
              "    </tr>\n",
              "    <tr>\n",
              "      <th>2</th>\n",
              "      <td>671967872.0</td>\n",
              "      <td>687764544.0</td>\n",
              "    </tr>\n",
              "    <tr>\n",
              "      <th>3</th>\n",
              "      <td>671413632.0</td>\n",
              "      <td>686742400.0</td>\n",
              "    </tr>\n",
              "    <tr>\n",
              "      <th>4</th>\n",
              "      <td>669451392.0</td>\n",
              "      <td>683418816.0</td>\n",
              "    </tr>\n",
              "  </tbody>\n",
              "</table>\n",
              "</div>\n",
              "      <button class=\"colab-df-convert\" onclick=\"convertToInteractive('df-43c292f8-e8b2-4ea1-b296-149c2ffa2d35')\"\n",
              "              title=\"Convert this dataframe to an interactive table.\"\n",
              "              style=\"display:none;\">\n",
              "        \n",
              "  <svg xmlns=\"http://www.w3.org/2000/svg\" height=\"24px\"viewBox=\"0 0 24 24\"\n",
              "       width=\"24px\">\n",
              "    <path d=\"M0 0h24v24H0V0z\" fill=\"none\"/>\n",
              "    <path d=\"M18.56 5.44l.94 2.06.94-2.06 2.06-.94-2.06-.94-.94-2.06-.94 2.06-2.06.94zm-11 1L8.5 8.5l.94-2.06 2.06-.94-2.06-.94L8.5 2.5l-.94 2.06-2.06.94zm10 10l.94 2.06.94-2.06 2.06-.94-2.06-.94-.94-2.06-.94 2.06-2.06.94z\"/><path d=\"M17.41 7.96l-1.37-1.37c-.4-.4-.92-.59-1.43-.59-.52 0-1.04.2-1.43.59L10.3 9.45l-7.72 7.72c-.78.78-.78 2.05 0 2.83L4 21.41c.39.39.9.59 1.41.59.51 0 1.02-.2 1.41-.59l7.78-7.78 2.81-2.81c.8-.78.8-2.07 0-2.86zM5.41 20L4 18.59l7.72-7.72 1.47 1.35L5.41 20z\"/>\n",
              "  </svg>\n",
              "      </button>\n",
              "      \n",
              "  <style>\n",
              "    .colab-df-container {\n",
              "      display:flex;\n",
              "      flex-wrap:wrap;\n",
              "      gap: 12px;\n",
              "    }\n",
              "\n",
              "    .colab-df-convert {\n",
              "      background-color: #E8F0FE;\n",
              "      border: none;\n",
              "      border-radius: 50%;\n",
              "      cursor: pointer;\n",
              "      display: none;\n",
              "      fill: #1967D2;\n",
              "      height: 32px;\n",
              "      padding: 0 0 0 0;\n",
              "      width: 32px;\n",
              "    }\n",
              "\n",
              "    .colab-df-convert:hover {\n",
              "      background-color: #E2EBFA;\n",
              "      box-shadow: 0px 1px 2px rgba(60, 64, 67, 0.3), 0px 1px 3px 1px rgba(60, 64, 67, 0.15);\n",
              "      fill: #174EA6;\n",
              "    }\n",
              "\n",
              "    [theme=dark] .colab-df-convert {\n",
              "      background-color: #3B4455;\n",
              "      fill: #D2E3FC;\n",
              "    }\n",
              "\n",
              "    [theme=dark] .colab-df-convert:hover {\n",
              "      background-color: #434B5C;\n",
              "      box-shadow: 0px 1px 3px 1px rgba(0, 0, 0, 0.15);\n",
              "      filter: drop-shadow(0px 1px 2px rgba(0, 0, 0, 0.3));\n",
              "      fill: #FFFFFF;\n",
              "    }\n",
              "  </style>\n",
              "\n",
              "      <script>\n",
              "        const buttonEl =\n",
              "          document.querySelector('#df-43c292f8-e8b2-4ea1-b296-149c2ffa2d35 button.colab-df-convert');\n",
              "        buttonEl.style.display =\n",
              "          google.colab.kernel.accessAllowed ? 'block' : 'none';\n",
              "\n",
              "        async function convertToInteractive(key) {\n",
              "          const element = document.querySelector('#df-43c292f8-e8b2-4ea1-b296-149c2ffa2d35');\n",
              "          const dataTable =\n",
              "            await google.colab.kernel.invokeFunction('convertToInteractive',\n",
              "                                                     [key], {});\n",
              "          if (!dataTable) return;\n",
              "\n",
              "          const docLinkHtml = 'Like what you see? Visit the ' +\n",
              "            '<a target=\"_blank\" href=https://colab.research.google.com/notebooks/data_table.ipynb>data table notebook</a>'\n",
              "            + ' to learn more about interactive tables.';\n",
              "          element.innerHTML = '';\n",
              "          dataTable['output_type'] = 'display_data';\n",
              "          await google.colab.output.renderOutput(dataTable, element);\n",
              "          const docLink = document.createElement('div');\n",
              "          docLink.innerHTML = docLinkHtml;\n",
              "          element.appendChild(docLink);\n",
              "        }\n",
              "      </script>\n",
              "    </div>\n",
              "  </div>\n",
              "  "
            ]
          },
          "metadata": {},
          "execution_count": 328
        }
      ]
    },
    {
      "cell_type": "code",
      "source": [
        "kayipveri.plot(\n",
        ")"
      ],
      "metadata": {
        "colab": {
          "base_uri": "https://localhost:8080/",
          "height": 293
        },
        "id": "ljR4dCVfkmBa",
        "outputId": "aeb6f627-3610-4d53-f365-0eea18f5f30d"
      },
      "execution_count": 329,
      "outputs": [
        {
          "output_type": "execute_result",
          "data": {
            "text/plain": [
              "<AxesSubplot:>"
            ]
          },
          "metadata": {},
          "execution_count": 329
        },
        {
          "output_type": "display_data",
          "data": {
            "text/plain": [
              "<Figure size 432x288 with 1 Axes>"
            ],
            "image/png": "[encoded data removed]"
          },
          "metadata": {
            "needs_background": "light"
          }
        }
      ]
    },
    {
      "cell_type": "code",
      "source": [
        "from sklearn.metrics import mean_squared_error, mean_absolute_error\n"
      ],
      "metadata": {
        "id": "VWrWA3cKkqfJ"
      },
      "execution_count": 330,
      "outputs": []
    },
    {
      "cell_type": "code",
      "source": [
        "PredictArray = model.predict(x_test)\n"
      ],
      "metadata": {
        "colab": {
          "base_uri": "https://localhost:8080/"
        },
        "id": "Vcsw3yaplIqV",
        "outputId": "2361df5d-0397-44a7-a021-12eef493694c"
      },
      "execution_count": 358,
      "outputs": [
        {
          "output_type": "stream",
          "name": "stdout",
          "text": [
            "122/122 [==============================] - 0s 1ms/step\n"
          ]
        }
      ]
    },
    {
      "cell_type": "code",
      "source": [
        "PredictArray\n"
      ],
      "metadata": {
        "colab": {
          "base_uri": "https://localhost:8080/"
        },
        "id": "qU62gNo8lJ5B",
        "outputId": "26d8ed82-5e15-4813-86bf-7f78a2279f89"
      },
      "execution_count": 359,
      "outputs": [
        {
          "output_type": "execute_result",
          "data": {
            "text/plain": [
              "array([[21138.15 ],\n",
              "       [23892.504],\n",
              "       [25120.105],\n",
              "       ...,\n",
              "       [26510.154],\n",
              "       [14687.171],\n",
              "       [23820.045]], dtype=float32)"
            ]
          },
          "metadata": {},
          "execution_count": 359
        }
      ]
    },
    {
      "cell_type": "code",
      "source": [
        "mean_absolute_error(y_test,PredictArray)\n"
      ],
      "metadata": {
        "colab": {
          "base_uri": "https://localhost:8080/"
        },
        "id": "rf2xl7otlLRl",
        "outputId": "4881577a-f27c-41d5-f422-21b11c64d9c8"
      },
      "execution_count": 360,
      "outputs": [
        {
          "output_type": "execute_result",
          "data": {
            "text/plain": [
              "3009.3978487307945"
            ]
          },
          "metadata": {},
          "execution_count": 360
        }
      ]
    },
    {
      "cell_type": "code",
      "source": [
        "dataFrame.describe()\n"
      ],
      "metadata": {
        "colab": {
          "base_uri": "https://localhost:8080/",
          "height": 364
        },
        "id": "eubz-qRtlNT-",
        "outputId": "f523229e-6237-46a8-b820-26c75314f401"
      },
      "execution_count": 361,
      "outputs": [
        {
          "output_type": "execute_result",
          "data": {
            "text/plain": [
              "               year          price        mileage           tax           mpg  \\\n",
              "count  13119.000000   13119.000000   13119.000000  13119.000000  13119.000000   \n",
              "mean    2017.296288   24698.596920   21949.559037    129.972178     55.155843   \n",
              "std        2.224709   11842.675542   21176.512267     65.260286     15.220082   \n",
              "min     1970.000000     650.000000       1.000000      0.000000      1.100000   \n",
              "25%     2016.000000   17450.000000    6097.500000    125.000000     45.600000   \n",
              "50%     2018.000000   22480.000000   15189.000000    145.000000     56.500000   \n",
              "75%     2019.000000   28980.000000   31779.500000    145.000000     64.200000   \n",
              "max     2020.000000  159999.000000  259000.000000    580.000000    217.300000   \n",
              "\n",
              "         engineSize  \n",
              "count  13119.000000  \n",
              "mean       2.071530  \n",
              "std        0.572426  \n",
              "min        0.000000  \n",
              "25%        1.800000  \n",
              "50%        2.000000  \n",
              "75%        2.100000  \n",
              "max        6.200000  "
            ],
            "text/html": [
              "\n",
              "  <div id=\"df-2818b393-82f4-4fa6-8989-1d429b65fad0\">\n",
              "    <div class=\"colab-df-container\">\n",
              "      <div>\n",
              "<style scoped>\n",
              "    .dataframe tbody tr th:only-of-type {\n",
              "        vertical-align: middle;\n",
              "    }\n",
              "\n",
              "    .dataframe tbody tr th {\n",
              "        vertical-align: top;\n",
              "    }\n",
              "\n",
              "    .dataframe thead th {\n",
              "        text-align: right;\n",
              "    }\n",
              "</style>\n",
              "<table border=\"1\" class=\"dataframe\">\n",
              "  <thead>\n",
              "    <tr style=\"text-align: right;\">\n",
              "      <th></th>\n",
              "      <th>year</th>\n",
              "      <th>price</th>\n",
              "      <th>mileage</th>\n",
              "      <th>tax</th>\n",
              "      <th>mpg</th>\n",
              "      <th>engineSize</th>\n",
              "    </tr>\n",
              "  </thead>\n",
              "  <tbody>\n",
              "    <tr>\n",
              "      <th>count</th>\n",
              "      <td>13119.000000</td>\n",
              "      <td>13119.000000</td>\n",
              "      <td>13119.000000</td>\n",
              "      <td>13119.000000</td>\n",
              "      <td>13119.000000</td>\n",
              "      <td>13119.000000</td>\n",
              "    </tr>\n",
              "    <tr>\n",
              "      <th>mean</th>\n",
              "      <td>2017.296288</td>\n",
              "      <td>24698.596920</td>\n",
              "      <td>21949.559037</td>\n",
              "      <td>129.972178</td>\n",
              "      <td>55.155843</td>\n",
              "      <td>2.071530</td>\n",
              "    </tr>\n",
              "    <tr>\n",
              "      <th>std</th>\n",
              "      <td>2.224709</td>\n",
              "      <td>11842.675542</td>\n",
              "      <td>21176.512267</td>\n",
              "      <td>65.260286</td>\n",
              "      <td>15.220082</td>\n",
              "      <td>0.572426</td>\n",
              "    </tr>\n",
              "    <tr>\n",
              "      <th>min</th>\n",
              "      <td>1970.000000</td>\n",
              "      <td>650.000000</td>\n",
              "      <td>1.000000</td>\n",
              "      <td>0.000000</td>\n",
              "      <td>1.100000</td>\n",
              "      <td>0.000000</td>\n",
              "    </tr>\n",
              "    <tr>\n",
              "      <th>25%</th>\n",
              "      <td>2016.000000</td>\n",
              "      <td>17450.000000</td>\n",
              "      <td>6097.500000</td>\n",
              "      <td>125.000000</td>\n",
              "      <td>45.600000</td>\n",
              "      <td>1.800000</td>\n",
              "    </tr>\n",
              "    <tr>\n",
              "      <th>50%</th>\n",
              "      <td>2018.000000</td>\n",
              "      <td>22480.000000</td>\n",
              "      <td>15189.000000</td>\n",
              "      <td>145.000000</td>\n",
              "      <td>56.500000</td>\n",
              "      <td>2.000000</td>\n",
              "    </tr>\n",
              "    <tr>\n",
              "      <th>75%</th>\n",
              "      <td>2019.000000</td>\n",
              "      <td>28980.000000</td>\n",
              "      <td>31779.500000</td>\n",
              "      <td>145.000000</td>\n",
              "      <td>64.200000</td>\n",
              "      <td>2.100000</td>\n",
              "    </tr>\n",
              "    <tr>\n",
              "      <th>max</th>\n",
              "      <td>2020.000000</td>\n",
              "      <td>159999.000000</td>\n",
              "      <td>259000.000000</td>\n",
              "      <td>580.000000</td>\n",
              "      <td>217.300000</td>\n",
              "      <td>6.200000</td>\n",
              "    </tr>\n",
              "  </tbody>\n",
              "</table>\n",
              "</div>\n",
              "      <button class=\"colab-df-convert\" onclick=\"convertToInteractive('df-2818b393-82f4-4fa6-8989-1d429b65fad0')\"\n",
              "              title=\"Convert this dataframe to an interactive table.\"\n",
              "              style=\"display:none;\">\n",
              "        \n",
              "  <svg xmlns=\"http://www.w3.org/2000/svg\" height=\"24px\"viewBox=\"0 0 24 24\"\n",
              "       width=\"24px\">\n",
              "    <path d=\"M0 0h24v24H0V0z\" fill=\"none\"/>\n",
              "    <path d=\"M18.56 5.44l.94 2.06.94-2.06 2.06-.94-2.06-.94-.94-2.06-.94 2.06-2.06.94zm-11 1L8.5 8.5l.94-2.06 2.06-.94-2.06-.94L8.5 2.5l-.94 2.06-2.06.94zm10 10l.94 2.06.94-2.06 2.06-.94-2.06-.94-.94-2.06-.94 2.06-2.06.94z\"/><path d=\"M17.41 7.96l-1.37-1.37c-.4-.4-.92-.59-1.43-.59-.52 0-1.04.2-1.43.59L10.3 9.45l-7.72 7.72c-.78.78-.78 2.05 0 2.83L4 21.41c.39.39.9.59 1.41.59.51 0 1.02-.2 1.41-.59l7.78-7.78 2.81-2.81c.8-.78.8-2.07 0-2.86zM5.41 20L4 18.59l7.72-7.72 1.47 1.35L5.41 20z\"/>\n",
              "  </svg>\n",
              "      </button>\n",
              "      \n",
              "  <style>\n",
              "    .colab-df-container {\n",
              "      display:flex;\n",
              "      flex-wrap:wrap;\n",
              "      gap: 12px;\n",
              "    }\n",
              "\n",
              "    .colab-df-convert {\n",
              "      background-color: #E8F0FE;\n",
              "      border: none;\n",
              "      border-radius: 50%;\n",
              "      cursor: pointer;\n",
              "      display: none;\n",
              "      fill: #1967D2;\n",
              "      height: 32px;\n",
              "      padding: 0 0 0 0;\n",
              "      width: 32px;\n",
              "    }\n",
              "\n",
              "    .colab-df-convert:hover {\n",
              "      background-color: #E2EBFA;\n",
              "      box-shadow: 0px 1px 2px rgba(60, 64, 67, 0.3), 0px 1px 3px 1px rgba(60, 64, 67, 0.15);\n",
              "      fill: #174EA6;\n",
              "    }\n",
              "\n",
              "    [theme=dark] .colab-df-convert {\n",
              "      background-color: #3B4455;\n",
              "      fill: #D2E3FC;\n",
              "    }\n",
              "\n",
              "    [theme=dark] .colab-df-convert:hover {\n",
              "      background-color: #434B5C;\n",
              "      box-shadow: 0px 1px 3px 1px rgba(0, 0, 0, 0.15);\n",
              "      filter: drop-shadow(0px 1px 2px rgba(0, 0, 0, 0.3));\n",
              "      fill: #FFFFFF;\n",
              "    }\n",
              "  </style>\n",
              "\n",
              "      <script>\n",
              "        const buttonEl =\n",
              "          document.querySelector('#df-2818b393-82f4-4fa6-8989-1d429b65fad0 button.colab-df-convert');\n",
              "        buttonEl.style.display =\n",
              "          google.colab.kernel.accessAllowed ? 'block' : 'none';\n",
              "\n",
              "        async function convertToInteractive(key) {\n",
              "          const element = document.querySelector('#df-2818b393-82f4-4fa6-8989-1d429b65fad0');\n",
              "          const dataTable =\n",
              "            await google.colab.kernel.invokeFunction('convertToInteractive',\n",
              "                                                     [key], {});\n",
              "          if (!dataTable) return;\n",
              "\n",
              "          const docLinkHtml = 'Like what you see? Visit the ' +\n",
              "            '<a target=\"_blank\" href=https://colab.research.google.com/notebooks/data_table.ipynb>data table notebook</a>'\n",
              "            + ' to learn more about interactive tables.';\n",
              "          element.innerHTML = '';\n",
              "          dataTable['output_type'] = 'display_data';\n",
              "          await google.colab.output.renderOutput(dataTable, element);\n",
              "          const docLink = document.createElement('div');\n",
              "          docLink.innerHTML = docLinkHtml;\n",
              "          element.appendChild(docLink);\n",
              "        }\n",
              "      </script>\n",
              "    </div>\n",
              "  </div>\n",
              "  "
            ]
          },
          "metadata": {},
          "execution_count": 361
        }
      ]
    },
    {
      "cell_type": "code",
      "source": [
        "plt.scatter(y_test,PredictArray)\n",
        "plt.plot(y_test,y_test,\"g-*\")"
      ],
      "metadata": {
        "colab": {
          "base_uri": "https://localhost:8080/",
          "height": 282
        },
        "id": "6hYPFJT2lOZj",
        "outputId": "f74157e5-f10b-4343-dfaa-6ba4c7bfd359"
      },
      "execution_count": 362,
      "outputs": [
        {
          "output_type": "execute_result",
          "data": {
            "text/plain": [
              "[<matplotlib.lines.Line2D at 0x7f7927bc47c0>]"
            ]
          },
          "metadata": {},
          "execution_count": 362
        },
        {
          "output_type": "display_data",
          "data": {
            "text/plain": [
              "<Figure size 432x288 with 1 Axes>"
            ],
            "image/png": "[encoded data removed]"
          },
          "metadata": {
            "needs_background": "light"
          }
        }
      ]
    },
    {
      "cell_type": "code",
      "source": [
        "dataFrame.iloc[2]"
      ],
      "metadata": {
        "colab": {
          "base_uri": "https://localhost:8080/"
        },
        "id": "DNYzaZPklTL_",
        "outputId": "df582896-95b7-4f3e-b2fe-5aa54ec452a9"
      },
      "execution_count": 346,
      "outputs": [
        {
          "output_type": "execute_result",
          "data": {
            "text/plain": [
              "year           2016.0\n",
              "price         49948.0\n",
              "mileage        6200.0\n",
              "tax             555.0\n",
              "mpg              28.0\n",
              "engineSize        5.5\n",
              "Name: 2, dtype: float64"
            ]
          },
          "metadata": {},
          "execution_count": 346
        }
      ]
    },
    {
      "cell_type": "code",
      "source": [
        "newCarArray = dataFrame.drop(\"price\",axis=1).iloc[2]\n"
      ],
      "metadata": {
        "id": "Ht6Y8_csmPqg"
      },
      "execution_count": 354,
      "outputs": []
    },
    {
      "cell_type": "code",
      "source": [
        "type(newCarArray)\n"
      ],
      "metadata": {
        "colab": {
          "base_uri": "https://localhost:8080/"
        },
        "id": "kUK52A5DmfHR",
        "outputId": "a7ce0ccb-1eb4-4456-e0da-d4b53393bcaa"
      },
      "execution_count": 355,
      "outputs": [
        {
          "output_type": "execute_result",
          "data": {
            "text/plain": [
              "pandas.core.series.Series"
            ]
          },
          "metadata": {},
          "execution_count": 355
        }
      ]
    },
    {
      "cell_type": "code",
      "source": [
        "newCarArray = scaler.transform(newCarArray.values.reshape(-1,5))\n"
      ],
      "metadata": {
        "id": "6j2e6qF8mkBL"
      },
      "execution_count": 356,
      "outputs": []
    },
    {
      "cell_type": "code",
      "source": [
        "model.predict(newCarArray)\n"
      ],
      "metadata": {
        "colab": {
          "base_uri": "https://localhost:8080/"
        },
        "id": "ryw3a-PrmwX5",
        "outputId": "f582d034-5070-4c3c-e696-c424174d4ae6"
      },
      "execution_count": 357,
      "outputs": [
        {
          "output_type": "stream",
          "name": "stdout",
          "text": [
            "1/1 [==============================] - 0s 148ms/step\n"
          ]
        },
        {
          "output_type": "execute_result",
          "data": {
            "text/plain": [
              "array([[5436987.5]], dtype=float32)"
            ]
          },
          "metadata": {},
          "execution_count": 357
        }
      ]
    }
  ],
  "metadata": {
    "colab": {
      "provenance": []
    },
    "kernelspec": {
      "display_name": "Python 3",
      "name": "python3"
    },
    "language_info": {
      "name": "python"
    }
  },
  "nbformat": 4,
  "nbformat_minor": 0
}